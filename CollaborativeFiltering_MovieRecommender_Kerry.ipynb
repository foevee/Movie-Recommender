{
 "cells": [
  {
   "cell_type": "markdown",
   "metadata": {
    "id": "Pmype6X4bBPu"
   },
   "source": [
    "# Air Liquide Code Challenge -  Movie Recommendation\n",
    "\n",
    "## Collaborative Filtering\n",
    "\n",
    "We investigate two algorithms for collaborative filtering\n",
    "\n",
    "- Item-based neighborhood methods\n",
    "- Matrix factorization\n",
    "\n",
    "The following notebook is implemented in colab, thus there are some configurations specific to colab."
   ]
  },
  {
   "cell_type": "markdown",
   "metadata": {
    "id": "giLYH3FlbBPv"
   },
   "source": [
    "## 1. Preliminaries\n"
   ]
  },
  {
   "cell_type": "markdown",
   "metadata": {
    "id": "3VVnEbmdbBPw"
   },
   "source": [
    "### Package Imports"
   ]
  },
  {
   "cell_type": "code",
   "execution_count": 222,
   "metadata": {
    "ExecuteTime": {
     "end_time": "2019-09-07T23:16:07.831454Z",
     "start_time": "2019-09-07T23:16:06.225275Z"
    },
    "colab": {
     "base_uri": "https://localhost:8080/"
    },
    "id": "DWHU3MM5bBPx",
    "outputId": "2842ebff-8cb5-410e-a11d-f0100131f975"
   },
   "outputs": [
    {
     "name": "stdout",
     "output_type": "stream",
     "text": [
      "2.3.0\n"
     ]
    }
   ],
   "source": [
    "import os\n",
    "import itertools\n",
    "import collections\n",
    "from collections import defaultdict\n",
    "from operator import itemgetter\n",
    "\n",
    "\n",
    "import numpy as np\n",
    "import pandas as pd\n",
    "import matplotlib.pyplot as plt\n",
    "import seaborn as sns\n",
    "\n",
    "from sklearn.preprocessing import LabelEncoder\n",
    "from sklearn.model_selection import train_test_split, KFold\n",
    "\n",
    "\n",
    "import tensorflow as tf\n",
    "from tensorflow import keras\n",
    "from tensorflow.keras.layers import Input, Embedding, Dot, Add, Flatten\n",
    "from tensorflow.keras.models import Model\n",
    "print(tf.__version__)\n",
    "\n",
    "\n",
    "from sklearn.metrics.pairwise import cosine_similarity\n",
    "\n",
    "%matplotlib inline\n",
    "\n",
    "seed=1234\n",
    "np.random.seed(seed)"
   ]
  },
  {
   "cell_type": "code",
   "execution_count": 182,
   "metadata": {
    "id": "5VpMzOQh9O-a"
   },
   "outputs": [],
   "source": [
    "# This configuration is required by some GPUs and not others, assuming only one gpu\n",
    "physical_devices = tf.config.experimental.list_physical_devices('GPU')\n",
    "if  len(physical_devices) > 0:\n",
    "    tf.config.experimental.set_memory_growth(physical_devices[0], True)\n",
    "    assert tf.config.experimental.get_memory_growth(physical_devices[0]) == True"
   ]
  },
  {
   "cell_type": "markdown",
   "metadata": {
    "id": "nryiNWr-bBQB"
   },
   "source": [
    "## 2. Data Preprocessing"
   ]
  },
  {
   "cell_type": "code",
   "execution_count": 2,
   "metadata": {
    "ExecuteTime": {
     "end_time": "2019-09-07T23:19:23.937878Z",
     "start_time": "2019-09-07T23:19:23.933923Z"
    },
    "colab": {
     "base_uri": "https://localhost:8080/"
    },
    "id": "v0gLZQuQbBQB",
    "outputId": "cc805e35-cc27-4ab8-9da9-a3bd7d0f4c29"
   },
   "outputs": [
    {
     "name": "stdout",
     "output_type": "stream",
     "text": [
      "--2020-11-05 21:33:52--  http://files.grouplens.org/datasets/movielens/ml-latest-small.zip\n",
      "Resolving files.grouplens.org (files.grouplens.org)... 128.101.65.152\n",
      "Connecting to files.grouplens.org (files.grouplens.org)|128.101.65.152|:80... connected.\n",
      "HTTP request sent, awaiting response... 200 OK\n",
      "Length: 978202 (955K) [application/zip]\n",
      "Saving to: ‘ml-latest-small.zip’\n",
      "\n",
      "ml-latest-small.zip 100%[===================>] 955.28K  3.32MB/s    in 0.3s    \n",
      "\n",
      "2020-11-05 21:33:52 (3.32 MB/s) - ‘ml-latest-small.zip’ saved [978202/978202]\n",
      "\n",
      "Archive:  ml-latest-small.zip\n",
      "   creating: ml-latest-small/\n",
      "  inflating: ml-latest-small/links.csv  \n",
      "  inflating: ml-latest-small/tags.csv  \n",
      "  inflating: ml-latest-small/ratings.csv  \n",
      "  inflating: ml-latest-small/README.txt  \n",
      "  inflating: ml-latest-small/movies.csv  \n"
     ]
    }
   ],
   "source": [
    "!wget http://files.grouplens.org/datasets/movielens/ml-latest-small.zip\n",
    "!unzip -o ml-latest-small.zip"
   ]
  },
  {
   "cell_type": "code",
   "execution_count": 60,
   "metadata": {
    "ExecuteTime": {
     "end_time": "2019-09-07T23:19:25.187662Z",
     "start_time": "2019-09-07T23:19:25.177975Z"
    },
    "colab": {
     "base_uri": "https://localhost:8080/",
     "height": 199
    },
    "id": "qPaKzje6bBQF",
    "outputId": "7890961e-9f1b-4402-d63f-764d1038d844"
   },
   "outputs": [
    {
     "data": {
      "text/html": [
       "<div>\n",
       "<style scoped>\n",
       "    .dataframe tbody tr th:only-of-type {\n",
       "        vertical-align: middle;\n",
       "    }\n",
       "\n",
       "    .dataframe tbody tr th {\n",
       "        vertical-align: top;\n",
       "    }\n",
       "\n",
       "    .dataframe thead th {\n",
       "        text-align: right;\n",
       "    }\n",
       "</style>\n",
       "<table border=\"1\" class=\"dataframe\">\n",
       "  <thead>\n",
       "    <tr style=\"text-align: right;\">\n",
       "      <th></th>\n",
       "      <th>userId</th>\n",
       "      <th>movieId</th>\n",
       "      <th>rating</th>\n",
       "      <th>timestamp</th>\n",
       "    </tr>\n",
       "  </thead>\n",
       "  <tbody>\n",
       "    <tr>\n",
       "      <th>0</th>\n",
       "      <td>1</td>\n",
       "      <td>1</td>\n",
       "      <td>4.0</td>\n",
       "      <td>964982703</td>\n",
       "    </tr>\n",
       "    <tr>\n",
       "      <th>1</th>\n",
       "      <td>1</td>\n",
       "      <td>3</td>\n",
       "      <td>4.0</td>\n",
       "      <td>964981247</td>\n",
       "    </tr>\n",
       "    <tr>\n",
       "      <th>2</th>\n",
       "      <td>1</td>\n",
       "      <td>6</td>\n",
       "      <td>4.0</td>\n",
       "      <td>964982224</td>\n",
       "    </tr>\n",
       "    <tr>\n",
       "      <th>3</th>\n",
       "      <td>1</td>\n",
       "      <td>47</td>\n",
       "      <td>5.0</td>\n",
       "      <td>964983815</td>\n",
       "    </tr>\n",
       "    <tr>\n",
       "      <th>4</th>\n",
       "      <td>1</td>\n",
       "      <td>50</td>\n",
       "      <td>5.0</td>\n",
       "      <td>964982931</td>\n",
       "    </tr>\n",
       "  </tbody>\n",
       "</table>\n",
       "</div>"
      ],
      "text/plain": [
       "   userId  movieId  rating  timestamp\n",
       "0       1        1     4.0  964982703\n",
       "1       1        3     4.0  964981247\n",
       "2       1        6     4.0  964982224\n",
       "3       1       47     5.0  964983815\n",
       "4       1       50     5.0  964982931"
      ]
     },
     "execution_count": 60,
     "metadata": {
      "tags": []
     },
     "output_type": "execute_result"
    }
   ],
   "source": [
    "location='ml-latest-small/'\n",
    "data_ratings=pd.read_csv(location+'ratings.csv')\n",
    "data_movies=pd.read_csv(location+'movies.csv')\n",
    "data_ratings.head()"
   ]
  },
  {
   "cell_type": "code",
   "execution_count": 61,
   "metadata": {
    "colab": {
     "base_uri": "https://localhost:8080/"
    },
    "id": "62kCtn0Q9eFV",
    "outputId": "fb197e7d-da53-4992-d436-5bb475e6c542"
   },
   "outputs": [
    {
     "name": "stdout",
     "output_type": "stream",
     "text": [
      "<class 'pandas.core.frame.DataFrame'>\n",
      "RangeIndex: 100836 entries, 0 to 100835\n",
      "Data columns (total 4 columns):\n",
      " #   Column     Non-Null Count   Dtype  \n",
      "---  ------     --------------   -----  \n",
      " 0   userId     100836 non-null  int64  \n",
      " 1   movieId    100836 non-null  int64  \n",
      " 2   rating     100836 non-null  float64\n",
      " 3   timestamp  100836 non-null  int64  \n",
      "dtypes: float64(1), int64(3)\n",
      "memory usage: 3.1 MB\n"
     ]
    }
   ],
   "source": [
    "#check the data integrity\n",
    "data_ratings.info()"
   ]
  },
  {
   "cell_type": "code",
   "execution_count": 179,
   "metadata": {
    "colab": {
     "base_uri": "https://localhost:8080/",
     "height": 299
    },
    "id": "UUcGILIy3wsm",
    "outputId": "dc923688-67c2-4449-97e0-92307f93591b"
   },
   "outputs": [
    {
     "data": {
      "text/plain": [
       "Text(0.5, 1.0, 'Rating distribution')"
      ]
     },
     "execution_count": 179,
     "metadata": {
      "tags": []
     },
     "output_type": "execute_result"
    },
    {
     "data": {
      "image/png": "[encoded data removed]",
      "text/plain": [
       "<Figure size 432x288 with 1 Axes>"
      ]
     },
     "metadata": {
      "needs_background": "light",
      "tags": []
     },
     "output_type": "display_data"
    }
   ],
   "source": [
    "#check the distribution of the rating data\n",
    "data_ratings['rating'].hist()\n",
    "plt.title('Rating distribution')"
   ]
  },
  {
   "cell_type": "markdown",
   "metadata": {
    "id": "0OriSEeVbBQW"
   },
   "source": [
    "### Train Test Split\n",
    "\n",
    "Here we do not handle carefuly new users or new movies (we just asign them at random)."
   ]
  },
  {
   "cell_type": "code",
   "execution_count": 65,
   "metadata": {
    "colab": {
     "base_uri": "https://localhost:8080/"
    },
    "id": "wVFi8xym9Wul",
    "outputId": "4d36fd3b-ef47-42fe-9e04-201205670df7"
   },
   "outputs": [
    {
     "name": "stdout",
     "output_type": "stream",
     "text": [
      "610 9724\n"
     ]
    }
   ],
   "source": [
    "#shuffle the data\n",
    "data_ratings=data_ratings.sample(frac=1)\n",
    "\n",
    "\n",
    "#encoder to continuous range\n",
    "userEncoder=LabelEncoder()\n",
    "movieEncoder=LabelEncoder()\n",
    "\n",
    "users_all=userEncoder.fit_transform(data_ratings[[\"userId\"]].values.ravel())\n",
    "movies_all=movieEncoder.fit_transform(data_ratings[[\"movieId\"]].values.ravel())\n",
    "ratings_all=data_ratings[[\"rating\"]].values.ravel()\n",
    "\n",
    "#unique users and movies\n",
    "unique_users=userEncoder.classes_\n",
    "unique_movies=movieEncoder.classes_\n",
    "\n",
    "N_users=len(unique_users)\n",
    "N_movies=len(unique_movies)\n",
    "print(N_users,N_movies)"
   ]
  },
  {
   "cell_type": "code",
   "execution_count": 326,
   "metadata": {
    "ExecuteTime": {
     "end_time": "2019-09-07T23:19:55.735437Z",
     "start_time": "2019-09-07T23:19:55.548969Z"
    },
    "colab": {
     "base_uri": "https://localhost:8080/"
    },
    "id": "VUf78zSObBQa",
    "outputId": "6cba3096-814c-4d8c-91cc-63bcfe937e17"
   },
   "outputs": [
    {
     "name": "stdout",
     "output_type": "stream",
     "text": [
      "train size 72853, validation size 12857, test size 15126\n"
     ]
    }
   ],
   "source": [
    "users, users_test, movies, movies_test, ratings, ratings_test=train_test_split(users_all,movies_all,ratings_all,test_size=0.15) #split test set\n",
    "users_train, users_val, movies_train, movies_val, ratings_train,ratings_val=train_test_split(users,movies,ratings,test_size=0.15) #split train and validation set\n",
    "\n",
    "print(f\"train size {users_train.shape[0]}, validation size {users_val.shape[0]}, test size {users_test.shape[0]}\")"
   ]
  },
  {
   "cell_type": "code",
   "execution_count": 327,
   "metadata": {
    "ExecuteTime": {
     "end_time": "2019-09-07T23:19:56.989429Z",
     "start_time": "2019-09-07T23:19:56.856515Z"
    },
    "colab": {
     "base_uri": "https://localhost:8080/"
    },
    "id": "n7RwUl_9bBQc",
    "outputId": "c92cb4ca-6911-4e87-eea1-d8a6b8374f4e"
   },
   "outputs": [
    {
     "name": "stdout",
     "output_type": "stream",
     "text": [
      "0 0\n"
     ]
    }
   ],
   "source": [
    "#sanity check\n",
    "unknown_users=~np.isin(users_val, users)\n",
    "unknown_movies=~np.isin(movies_val, movies)\n",
    "print(unknown_users.sum(), unknown_movies.sum())"
   ]
  },
  {
   "cell_type": "markdown",
   "metadata": {
    "id": "Wp2RDirOBr-G"
   },
   "source": [
    "## 3. Item-based Neighborhood Model\n",
    "\n",
    "For item-based neighborhood model, the target is to build an item-item matrix determining relationships between pairs of items. Here we infer the tastes of the current user by examining the matrix and matching that user's data. We use cosine similarity to measure the difference between two items (movies)."
   ]
  },
  {
   "cell_type": "markdown",
   "metadata": {
    "id": "ViVPeuEnM_tx"
   },
   "source": [
    "### Model Implementation"
   ]
  },
  {
   "cell_type": "code",
   "execution_count": 260,
   "metadata": {
    "id": "HNIVksyl6Mcs"
   },
   "outputs": [],
   "source": [
    "class ItemBasedCF:\n",
    "    \"\"\"\n",
    "    Item-based Collaborative filtering.\n",
    "    Top-N recommendation.\n",
    "    \"\"\"\n",
    "\n",
    "    def __init__(self, k_similar_movie=20, n_rec_movie=10):\n",
    "        \"\"\"\n",
    "        Init UserBasedCF with k_sim_item and n_rec_item.\n",
    "        \"\"\"\n",
    "        print(\"Start Item-based Collaborative filtering ...\\n\")\n",
    "        self.k_similar_item = k_similar_movie\n",
    "        self.n_rec_item = n_rec_movie\n",
    "        self.trainset = None\n",
    "    \n",
    "    def calculate_item_popular(self, data):\n",
    "        \"\"\"\n",
    "        Counting movies number and popularity\n",
    "        \"\"\"\n",
    "        movie_popular = defaultdict(int)\n",
    "        for user, movies in data.items():\n",
    "            for movie in movies:\n",
    "                # count item popularity\n",
    "                movie_popular[movie] += 1\n",
    "        \n",
    "        # save the total movie number, which will be used in evaluation\n",
    "        movie_count = len(movie_popular)\n",
    "        return movie_popular, movie_count\n",
    "\n",
    "\n",
    "\n",
    "    def calculate_item_similarity(self, data):\n",
    "        \"\"\"\n",
    "        Calculate the item cosine similarity matrix using the movie-users inverse table\n",
    "        The calculating will only between items which are voted by common users\n",
    "        \"\"\"\n",
    "\n",
    "        movie_popular, movie_count = self.calculate_item_popular(data)\n",
    "\n",
    "        # count co-rated items between users\n",
    "        print('generate items co-rated similarity matrix...')\n",
    "        # set item_sim_matrix as a two-dim table: [movie_id1][co-existing_movie_is2]\n",
    "        \n",
    "        item_similar_matrix = {}\n",
    "        for user, movies in data.items():\n",
    "            for movie1, movie2 in list(itertools.combinations(movies, 2)):\n",
    "                item_similar_matrix.setdefault(movie1, defaultdict(int))\n",
    "                item_similar_matrix.setdefault(movie2, defaultdict(int))\n",
    "                item_similar_matrix[movie1][movie2] += 1\n",
    "                item_similar_matrix[movie2][movie1] += 1 \n",
    "        \n",
    "        # calculate item-item similarity matrix\n",
    "        print('calculate item-item similarity matrix...')\n",
    "        # record the calculate time has spent.\n",
    "        \n",
    "        for movie1, related_items in item_similar_matrix.items():\n",
    "            len_user1 = movie_popular[movie1]\n",
    "            for movie2, count in related_items.items():\n",
    "                len_user2 = movie_popular[movie2]\n",
    "                # The similarity of user1 and user2 is len(common movies)/sqrt(len(user1 movies)* len(user2 movies)\n",
    "                item_similar_matrix[movie1][movie2] = count / np.sqrt(len_user1 * len_user2)\n",
    "\n",
    "        \n",
    "        return item_similar_matrix, movie_popular, movie_count\n",
    "\n",
    "    def fit(self, data):\n",
    "        \"\"\"\n",
    "        Fit the train data by calculate movie similarity matrix.\n",
    "        \"\"\"\n",
    "    \n",
    "        self.item_similar_matix, self.movie_popular, self.movie_count = self.calculate_item_similarity(data)\n",
    "        self.trainset = data\n",
    "        print('Model training finished')\n",
    "        \n",
    "\n",
    "    def recommend(self, user):\n",
    "        \"\"\"\n",
    "        Find K similar movies and recommend N movies for the user\n",
    "        \"\"\"\n",
    "        if not self.item_similar_matix or not self.n_rec_item or not self.trainset or not self.movie_popular or not self.movie_count:\n",
    "            raise NotImplementedError('ItemCF has not init or fit method has not called yet.')\n",
    "        K = self.k_similar_item\n",
    "        N = self.n_rec_item\n",
    "        predict_score = collections.defaultdict(int)\n",
    "\n",
    "        rated_movies = self.trainset[user]\n",
    "        for movie, rating in rated_movies.items():\n",
    "\n",
    "            if movie not in self.item_similar_matix:\n",
    "                print(\"Error: non-existing movie\")\n",
    "                return -1\n",
    "            for related_movie, similarity_factor in sorted(self.item_similar_matix[movie].items(), key=itemgetter(1), reverse=True)[0:K]:\n",
    "                if related_movie in rated_movies:\n",
    "                    continue\n",
    "                predict_score[related_movie] += similarity_factor * rating\n",
    "                \n",
    "\n",
    "        return [movie for movie, _ in sorted(predict_score.items(), key=itemgetter(1), reverse=True)[0:N]]\n",
    "\n",
    "    def test(self, testset):\n",
    "        \"\"\"\n",
    "        Test the recommendation system by recommending scores to all users in testset.\n",
    "        \"\"\"\n",
    "        if not self.n_rec_item or not self.trainset or not self.movie_popular or not self.movie_count:\n",
    "            raise ValueError('ItemCF has not init or fit method has not called yet.')\n",
    "        self.testset = testset\n",
    "        N = self.n_rec_item\n",
    "        \n",
    "        #  varables for precision and recall\n",
    "        hit = 0\n",
    "        rec_count = 0\n",
    "        test_count = 0\n",
    "        \n",
    "        for i, user in enumerate(self.trainset):\n",
    "            test_movies = self.testset.get(user, {})\n",
    "            rec_movies = self.recommend(user)  # type:list\n",
    "            hit += len(set(test_movies).intersection(rec_movies))\n",
    "            \n",
    "            rec_count += N\n",
    "            test_count += len(test_movies)\n",
    "            if i%100==0:\n",
    "                print(f\"Iteration {i} testing performance now....\")\n",
    "            \n",
    "        precision = hit / (1.0 * rec_count)\n",
    "        recall = hit / (1.0 * test_count)\n",
    "        print(f'precision={precision}\\t recall={recall}\\n')\n",
    "\n",
    "        return precision, recall\n",
    "\n",
    "    def predict(self, testset):\n",
    "        \"\"\"\n",
    "        Recommend movies to all users in testset\n",
    "        \"\"\"\n",
    "        items_recommend = defaultdict(list)\n",
    "\n",
    "        for i, user in enumerate(testset):\n",
    "            rec_movies = self.recommend(user)  # type:list\n",
    "            items_recommend[user].append(rec_movies)\n",
    "\n",
    "        return items_recommend"
   ]
  },
  {
   "cell_type": "markdown",
   "metadata": {
    "id": "ZhhZx4r6NDFf"
   },
   "source": [
    "### Model Training"
   ]
  },
  {
   "cell_type": "code",
   "execution_count": 206,
   "metadata": {
    "id": "kNtMa0BJKTM_"
   },
   "outputs": [],
   "source": [
    "#convert dataframe into dictionary for model training\n",
    "train_dict, val_dict, test_dict = collections.defaultdict(dict), collections.defaultdict(dict), collections.defaultdict(dict)\n",
    "for user, movie, rate in zip(users_train, movies_train, ratings_train):\n",
    "    train_dict[user][movie]=int(rate)\n",
    "for user, movie, rate in zip(users_val, movies_val, ratings_val):\n",
    "    val_dict[user][movie]=int(rate)\n",
    "for user, movie, rate in zip(users_test, movies_test, ratings_test):\n",
    "    test_dict[user][movie]=int(rate)\n"
   ]
  },
  {
   "cell_type": "code",
   "execution_count": 261,
   "metadata": {
    "colab": {
     "base_uri": "https://localhost:8080/"
    },
    "id": "lVsdTDcwLVci",
    "outputId": "0727d9fb-e5a3-48b6-8d01-068dfd1a97a8"
   },
   "outputs": [
    {
     "name": "stdout",
     "output_type": "stream",
     "text": [
      "Start Item-based Collaborative filtering ...\n",
      "\n",
      "generate items co-rated similarity matrix...\n",
      "calculate item-item similarity matrix...\n",
      "Model training finished\n"
     ]
    }
   ],
   "source": [
    "ItemBasedCFModel = ItemBasedCF(20, 10)\n",
    "ItemBasedCFModel.fit(train_dict)"
   ]
  },
  {
   "cell_type": "markdown",
   "metadata": {
    "id": "2w_tQx6DQghG"
   },
   "source": [
    "### Model Performance and Prediction"
   ]
  },
  {
   "cell_type": "code",
   "execution_count": 254,
   "metadata": {
    "colab": {
     "base_uri": "https://localhost:8080/"
    },
    "id": "BwWq6--ZNIo0",
    "outputId": "3fc8a977-cfcc-4272-fa9d-11c0c47d147b"
   },
   "outputs": [
    {
     "name": "stdout",
     "output_type": "stream",
     "text": [
      "random user 507\n",
      "[5486, 1351, 7668, 7617, 7873, 7999, 6687, 7457, 7210, 1518]\n"
     ]
    }
   ],
   "source": [
    "#check the recommendation of a random user\n",
    "idx=np.random.randint(0,len(users_all))\n",
    "test_user=users_all[idx]\n",
    "print(f\"random user {test_user}\")\n",
    "\n",
    "movies=ItemBasedCFModel.recommend(test_user)\n",
    "print(movies)"
   ]
  },
  {
   "cell_type": "code",
   "execution_count": 264,
   "metadata": {
    "colab": {
     "base_uri": "https://localhost:8080/"
    },
    "id": "YhEbaNbvQZKc",
    "outputId": "f98b330c-efce-45fe-c87d-ac58bdcbf183"
   },
   "outputs": [
    {
     "name": "stdout",
     "output_type": "stream",
     "text": [
      "Iteration 0 testing performance now....\n",
      "Iteration 100 testing performance now....\n",
      "Iteration 200 testing performance now....\n",
      "Iteration 300 testing performance now....\n",
      "Iteration 400 testing performance now....\n",
      "Iteration 500 testing performance now....\n",
      "Iteration 600 testing performance now....\n",
      "precision=0.12672131147540983\t recall=0.06012289025433616\n",
      "\n"
     ]
    }
   ],
   "source": [
    "#evaluate the validation set performance\n",
    "val_prec, val_recall = ItemBasedCFModel.test(val_dict)"
   ]
  },
  {
   "cell_type": "code",
   "execution_count": 262,
   "metadata": {
    "colab": {
     "base_uri": "https://localhost:8080/"
    },
    "id": "IzKhw6JjQdwx",
    "outputId": "e244f3dd-d1d4-491c-ab51-13f314ff4c59"
   },
   "outputs": [
    {
     "name": "stdout",
     "output_type": "stream",
     "text": [
      "Iteration 0 testing performance now....\n",
      "Iteration 100 testing performance now....\n",
      "Iteration 200 testing performance now....\n",
      "Iteration 300 testing performance now....\n",
      "Iteration 400 testing performance now....\n",
      "Iteration 500 testing performance now....\n",
      "Iteration 600 testing performance now....\n",
      "precision=0.15245901639344261\t recall=0.061483538278460925\n",
      "\n"
     ]
    }
   ],
   "source": [
    "#evaluate the test set performance\n",
    "test_prec, test_recall = ItemBasedCFModel.test(test_dict)"
   ]
  },
  {
   "cell_type": "markdown",
   "metadata": {
    "ExecuteTime": {
     "end_time": "2018-11-14T08:58:13.546455Z",
     "start_time": "2018-11-14T08:58:13.530833Z"
    },
    "id": "M7t65Y9tbBQq"
   },
   "source": [
    "## 4. Matrix Factorization Model - Using Keras\n",
    "\n",
    "According to Wikipedia, we choose the SVD++ matrix factorzation model denoting the rating $r_{u,i}$ for user $u$ and movie $i$ as \n",
    "\\begin{equation}\n",
    "\t\\hat{r}_{i,u} =\\mu + b_u + b_i + p_u^T q_i\n",
    "\\end{equation}\n",
    "\n",
    "where the parameters are defined as follows:\n",
    "- Mean rating: $\\mu$ is the average rating of all users over all movies in our training\n",
    "-User bias $b_u$ is a per user bias that will be higher for users that give high\n",
    "average ratings to all movies\n",
    "- Item bias $b_i$ is a per item (movie) bias that will be higher for the more popular (higher ranked) movies\n",
    "- User embedding $p_u$ is the a per user F dimensional vector that maps user u into some kind of abstract taste space\n",
    "- Item embedding $q_i$ is a per item F dimensional vector that maps item\n",
    "i into the taste space\n",
    "\n",
    "Our target is to train the interaction terms with embedding dimension $F$ s.t. $p_u$ has $U*F$ coefficients, $p_i$ has $I*F$ coefficients.\n"
   ]
  },
  {
   "cell_type": "markdown",
   "metadata": {
    "id": "e2eIYdRIbBQw"
   },
   "source": [
    "### Model Implementation using Keras\n",
    "\n",
    "We will implement the matrix factoirzation model \n",
    "\\begin{equation}\n",
    "\t\\Delta \\hat{r}_{i,u} =b_u + b_i + p_u^T q_i\n",
    "\\end{equation}\n",
    "\n",
    "where $  \\Delta \\hat{r}_{i,u} = \\hat{r}_{i,u} - \\mu\n",
    "$ using `keras` layers."
   ]
  },
  {
   "cell_type": "markdown",
   "metadata": {
    "id": "agekKOdeL40c"
   },
   "source": [
    "We define a callback helper function to show optimization progress every 10 epochs or so."
   ]
  },
  {
   "cell_type": "code",
   "execution_count": 11,
   "metadata": {
    "id": "MqgWbVN3L3nU"
   },
   "outputs": [],
   "source": [
    "class ReportCallback(keras.callbacks.Callback):\n",
    "    def __init__(self, frequency, use_val=False):\n",
    "        self.freq=frequency\n",
    "        self.use_val=use_val\n",
    "        self.separator=\" || \"\n",
    "        if not(self.use_val):\n",
    "            self.separator=\"\\n\"\n",
    "    def on_epoch_end(self, epoch, logs={}):\n",
    "        if (epoch % self.freq ==0):\n",
    "            train_loss=logs[\"loss\"]\n",
    "            train_error=logs[\"rmse\"]\n",
    "            print(f\"{epoch}: TRAIN Loss {train_loss:.4f},  Err {train_error:.4f}\", end=self.separator)\n",
    "            if self.use_val:\n",
    "                val_loss=logs[\"val_loss\"]\n",
    "                val_error=logs[\"val_rmse\"]\n",
    "                print(f\"VAL Loss {val_loss:.4f}, Err {val_error:.4f}\")"
   ]
  },
  {
   "cell_type": "code",
   "execution_count": 422,
   "metadata": {
    "id": "gsWXLJXHIy4c"
   },
   "outputs": [],
   "source": [
    "class ReportCallback(keras.callbacks.Callback):\n",
    "    def __init__(self, frequency, use_val=False):\n",
    "        self.freq=frequency\n",
    "        self.use_val=use_val\n",
    "        self.separator=\" || \"\n",
    "        if not(self.use_val):\n",
    "            self.separator=\"\\n\"\n",
    "    def on_epoch_end(self, epoch, logs={}):\n",
    "        if (epoch % self.freq ==0):\n",
    "            train_loss=logs[\"loss\"]\n",
    "            train_error=logs[\"rmse\"]\n",
    "            print(f\"{epoch}: TRAIN Loss {train_loss:.4f},  Err {train_error:.4f}\", end=self.separator)\n",
    "            if self.use_val:\n",
    "                val_loss=logs[\"val_loss\"]\n",
    "                val_error=logs[\"val_rmse\"]\n",
    "                print(f\"VAL Loss {val_loss:.4f}, Err {val_error:.4f}\")\n",
    "\n",
    "\n",
    "#define the collaborative filtering model\n",
    "class MatrixFactorCF:\n",
    "    def __init__(self, u_users, m_items, f_factors, penalty):\n",
    "        \"\"\"\n",
    "        Init Matrix Factorization model\n",
    "        \"\"\"\n",
    "        users=Input(shape=(1,))\n",
    "        movies=Input(shape=(1,))\n",
    "        bu=Embedding(u_users, 1, input_length=1,\n",
    "                    embeddings_initializer=keras.initializers.RandomNormal(stddev=0.0001),)(users)\n",
    "        bm=Embedding(m_items, 1, input_length=1,\n",
    "                    embeddings_initializer=keras.initializers.RandomNormal(stddev=0.0001),)(movies)\n",
    "        pu=Embedding(u_users, f_factors, input_length=1,\n",
    "                    embeddings_initializer=keras.initializers.RandomNormal(stddev=1/np.sqrt(f_factors)),\n",
    "                    embeddings_regularizer=keras.regularizers.l2(penalty),\n",
    "                    name='UserEmbeddingLayer')(users) #add L2 regularization\n",
    "        qm=Embedding(m_items, f_factors, input_length=1,\n",
    "                    embeddings_initializer=keras.initializers.RandomNormal(stddev=1/np.sqrt(f_factors)),\n",
    "                    embeddings_regularizer=keras.regularizers.l2(penalty),\n",
    "                    name='MovieEmbeddingLayer')(movies)\n",
    "        interaction=Dot(axes=-1)([pu,qm])\n",
    "        agg=Add()([bu, bm, interaction])\n",
    "        r_hat=Flatten()(agg)\n",
    "        self.model=Model(inputs=[users,movies], outputs=r_hat)\n",
    "        \n",
    "    \n",
    "    def rmse(self, y_true, y_pred):\n",
    "        \"\"\"\n",
    "        define the metrics (keras by default will include the penalty on the metrics report)\n",
    "        \"\"\"\n",
    "        return keras.backend.mean(keras.backend.square(y_pred-y_true),axis=-1)\n",
    "\n",
    "    def compile(self, loss='mean_squared_error',verbose=True):\n",
    "        \"\"\" Compile the model \"\"\"\n",
    "        self.model.compile(optimizer=keras.optimizers.Adam(), metrics=[rmse], loss=loss)\n",
    "        if verbose:\n",
    "            self.model.summary()\n",
    "\n",
    "    def fit(self, users_train, movies_train, ratings_train, users_val=None, movies_val=None, ratings_val=None, \n",
    "            verbose=False, epochs=100, batch_size=500):\n",
    "        \"\"\" Fit the model and train \"\"\"\n",
    "        mu=ratings_train.mean()\n",
    "        #save the training paramters\n",
    "        self.mu = mu\n",
    "        self.movies_trainset = np.array(list(set(movies_train))).ravel()\n",
    "\n",
    "        dratings_train = ratings_train-mu\n",
    "        dratings_val = None\n",
    "        if movies_val is not None:\n",
    "            dratings_val = ratings_val-mu\n",
    "        trainset = [users_train, movies_train]\n",
    "        valset = [users_val, movies_val]\n",
    "        history = self.model.fit(trainset, dratings_train, epochs=epochs, batch_size=batch_size, \n",
    "                       callbacks=[ReportCallback(10,True)], verbose=verbose,\n",
    "                        validation_data=(valset, dratings_val))\n",
    "        \n",
    "        self.user_embedding = self.model.get_layer('UserEmbeddingLayer').output\n",
    "        self.movie_embedding = self.model.get_layer('MovieEmbeddingLayer').output\n",
    "        \n",
    "        return history\n",
    "\n",
    "    def predict(self, users_test, movies_test):\n",
    "        \"\"\" Predict the rating for test data (user and movie)\"\"\"\n",
    "        return self.mu+self.model.predict([users_test,movies_test]).ravel()\n",
    "    \n",
    "    def recommend(self, user, N_rec=10):\n",
    "        \"\"\"Recommend movie for users\"\"\"\n",
    "        n_movies = len(self.movies_trainset)\n",
    "        predictions = model.predict(np.array([user]*n_movies).ravel(), self.movies_trainset)\n",
    "        rec_movies = sorted(zip(self.movies_trainset,predictions),key=lambda x: x[1], reverse=True)\n",
    "        return [movie for movie, _ in rec_movies[:N_rec]]\n",
    "\n",
    "    def test_performance(self, trainset, testset):\n",
    "        \"\"\"\n",
    "        Test the recommendation system by recommending scores to all users in testset.\n",
    "        \"\"\"\n",
    "        #  varables for precision and recall\n",
    "        hit = 0\n",
    "        rec_count = 0\n",
    "        test_count = 0\n",
    "        \n",
    "        for i, user in enumerate(trainset):\n",
    "            if user not in testset:\n",
    "                continue\n",
    "            test_movies = testset.get(user, {})\n",
    "            rec_movies = self.recommend(user)  # type:list\n",
    "            hit += len(set(test_movies).intersection(rec_movies))\n",
    "            \n",
    "            rec_count += len(rec_movies)\n",
    "            test_count += len(test_movies)\n",
    "            if i%100==0:\n",
    "                print(f\"Iteration {i} testing performance now....\")\n",
    "            \n",
    "        precision = hit / (1.0 * rec_count)\n",
    "        recall = hit / (1.0 * test_count)\n",
    "        print(f'precision={precision}\\t recall={recall}\\n')\n",
    "        return precision, recall"
   ]
  },
  {
   "cell_type": "code",
   "execution_count": 307,
   "metadata": {
    "ExecuteTime": {
     "end_time": "2019-09-07T23:20:11.718237Z",
     "start_time": "2019-09-07T23:20:11.625579Z"
    },
    "colab": {
     "base_uri": "https://localhost:8080/"
    },
    "id": "1ihTnhaAbBQ0",
    "outputId": "0de13beb-62fd-40cf-eec9-924ba122a169"
   },
   "outputs": [
    {
     "name": "stdout",
     "output_type": "stream",
     "text": [
      "Model: \"functional_109\"\n",
      "__________________________________________________________________________________________________\n",
      "Layer (type)                    Output Shape         Param #     Connected to                     \n",
      "==================================================================================================\n",
      "input_111 (InputLayer)          [(None, 1)]          0                                            \n",
      "__________________________________________________________________________________________________\n",
      "input_112 (InputLayer)          [(None, 1)]          0                                            \n",
      "__________________________________________________________________________________________________\n",
      "UserEmbeddingLayer (Embedding)  (None, 1, 10)        6100        input_111[0][0]                  \n",
      "__________________________________________________________________________________________________\n",
      "MovieEmbeddingLayer (Embedding) (None, 1, 10)        97240       input_112[0][0]                  \n",
      "__________________________________________________________________________________________________\n",
      "embedding_205 (Embedding)       (None, 1, 1)         610         input_111[0][0]                  \n",
      "__________________________________________________________________________________________________\n",
      "embedding_206 (Embedding)       (None, 1, 1)         9724        input_112[0][0]                  \n",
      "__________________________________________________________________________________________________\n",
      "dot_54 (Dot)                    (None, 1, 1)         0           UserEmbeddingLayer[0][0]         \n",
      "                                                                 MovieEmbeddingLayer[0][0]        \n",
      "__________________________________________________________________________________________________\n",
      "add_54 (Add)                    (None, 1, 1)         0           embedding_205[0][0]              \n",
      "                                                                 embedding_206[0][0]              \n",
      "                                                                 dot_54[0][0]                     \n",
      "__________________________________________________________________________________________________\n",
      "flatten_54 (Flatten)            (None, 1)            0           add_54[0][0]                     \n",
      "==================================================================================================\n",
      "Total params: 113,674\n",
      "Trainable params: 113,674\n",
      "Non-trainable params: 0\n",
      "__________________________________________________________________________________________________\n"
     ]
    }
   ],
   "source": [
    "#create the model and compile\n",
    "penalty=1e-4\n",
    "F=10\n",
    "MFmodel=MatrixFactorCF(N_users,N_movies, F, penalty)\n",
    "MFmodel.compile()"
   ]
  },
  {
   "cell_type": "markdown",
   "metadata": {
    "id": "1Sn0l4babBQ9"
   },
   "source": [
    "### Base Model Training\n",
    "\n",
    "Our target is  $  \\Delta \\hat{r}_{i,u} = \\hat{r}_{i,u} - \\mu$, the ratings substracting their sample mean."
   ]
  },
  {
   "cell_type": "code",
   "execution_count": 308,
   "metadata": {
    "ExecuteTime": {
     "end_time": "2019-09-07T23:21:47.116901Z",
     "start_time": "2019-09-07T23:20:16.304901Z"
    },
    "colab": {
     "base_uri": "https://localhost:8080/"
    },
    "id": "vxjKVv7RbBQ9",
    "outputId": "858584a9-7ad7-4e06-bf00-dfa0a0f108e8"
   },
   "outputs": [
    {
     "name": "stderr",
     "output_type": "stream",
     "text": [
      "/usr/local/lib/python3.6/dist-packages/tensorflow/python/framework/indexed_slices.py:432: UserWarning: Converting sparse IndexedSlices to a dense Tensor of unknown shape. This may consume a large amount of memory.\n",
      "  \"Converting sparse IndexedSlices to a dense Tensor of unknown shape. \"\n"
     ]
    },
    {
     "name": "stdout",
     "output_type": "stream",
     "text": [
      "0: TRAIN Loss 1.9521,  Err 1.1369 || VAL Loss 1.7080, Err 1.0536\n",
      "10: TRAIN Loss 0.7957,  Err 0.7123 || VAL Loss 0.8711, Err 0.7918\n",
      "20: TRAIN Loss 0.6532,  Err 0.5860 || VAL Loss 0.8229, Err 0.7546\n",
      "30: TRAIN Loss 0.5846,  Err 0.4908 || VAL Loss 0.8420, Err 0.7470\n",
      "40: TRAIN Loss 0.5528,  Err 0.4393 || VAL Loss 0.8639, Err 0.7497\n",
      "50: TRAIN Loss 0.5361,  Err 0.4120 || VAL Loss 0.8780, Err 0.7536\n",
      "60: TRAIN Loss 0.5256,  Err 0.3958 || VAL Loss 0.8870, Err 0.7570\n",
      "70: TRAIN Loss 0.5182,  Err 0.3854 || VAL Loss 0.8938, Err 0.7608\n",
      "80: TRAIN Loss 0.5128,  Err 0.3781 || VAL Loss 0.8990, Err 0.7643\n",
      "90: TRAIN Loss 0.5087,  Err 0.3729 || VAL Loss 0.9034, Err 0.7676\n"
     ]
    }
   ],
   "source": [
    "history = MFmodel.fit(users_train, movies_train, ratings_train, users_val, movies_val, ratings_val)"
   ]
  },
  {
   "cell_type": "code",
   "execution_count": 309,
   "metadata": {
    "ExecuteTime": {
     "end_time": "2019-09-07T23:21:49.920125Z",
     "start_time": "2019-09-07T23:21:47.119252Z"
    },
    "colab": {
     "base_uri": "https://localhost:8080/"
    },
    "id": "_Pgw-F6fbBRA",
    "outputId": "5bfe10af-52f3-4125-b866-f9e48f3ddeba"
   },
   "outputs": [
    {
     "name": "stdout",
     "output_type": "stream",
     "text": [
      "validation loss: 0.7702070107399355\n"
     ]
    }
   ],
   "source": [
    "Y_pred=MFmodel.predict(users_val,movies_val)\n",
    "loss=np.mean((ratings_val-Y_pred)**2)\n",
    "print(\"validation loss:\",loss)"
   ]
  },
  {
   "cell_type": "code",
   "execution_count": 310,
   "metadata": {
    "colab": {
     "base_uri": "https://localhost:8080/"
    },
    "id": "EdWqomJmeVfs",
    "outputId": "87a90670-ca27-4e2c-cdae-ac7f3f64d080"
   },
   "outputs": [
    {
     "name": "stdout",
     "output_type": "stream",
     "text": [
      "random user 609\n",
      "[510, 24, 602, 923, 659, 257, 694, 899, 862, 902]\n"
     ]
    }
   ],
   "source": [
    "#check the recommendation of a random user\n",
    "idx=np.random.randint(0,len(users_all))\n",
    "test_user=users_all[idx]\n",
    "print(f\"random user {test_user}\")\n",
    "\n",
    "movies=MFmodel.recommend(test_user, 10)\n",
    "print(movies)"
   ]
  },
  {
   "cell_type": "markdown",
   "metadata": {
    "id": "8CCN1TAjbBRC"
   },
   "source": [
    "### Hyperparameter search\n",
    "\n",
    "Now we need to find the optimal parameters for the matrix factorization model using grid search, specifically two parameters\n",
    "- Embedding dimension F\n",
    "- Regularization penalty $\\gamma$\n",
    "\n",
    "We use cross validation to evaluate the model performance and choose the best model."
   ]
  },
  {
   "cell_type": "code",
   "execution_count": 317,
   "metadata": {
    "id": "X4-mTacSY0gs"
   },
   "outputs": [],
   "source": [
    "def grid_search(F_range, penalty_range, steps=200, batch_size=500, verbose=True):\n",
    "    results=[]\n",
    "    best_loss=1e10\n",
    "    best_F=None\n",
    "    best_penalty=None\n",
    "\n",
    "    for F,penalty in itertools.product(F_range, penalty_range):\n",
    "        print(f\"F = {F}, penalty = {penalty} :\")\n",
    "        model=MatrixFactorCF(N_users,N_movies, F, penalty)\n",
    "        model.compile(verbose=verbose)\n",
    "        model.fit(users_train, movies_train, ratings_train, users_val, movies_val, ratings_val, \n",
    "                    verbose=verbose, epochs=steps, batch_size=batch_size)\n",
    "        Y_pred = model.predict(users_val,movies_val)\n",
    "        loss = np.mean((ratings_val-Y_pred)**2)\n",
    "        results.append((F,penalty,loss))\n",
    "        if loss<best_loss:\n",
    "            best_loss=loss\n",
    "            best_F=F\n",
    "            best_penalty=penalty\n",
    "        print(\"\\n\")\n",
    "    print(f\"==> {F},{penalty},{loss} == best ({best_F},{best_penalty},{best_loss}) ===========\")\n",
    "    return results"
   ]
  },
  {
   "cell_type": "code",
   "execution_count": 318,
   "metadata": {
    "ExecuteTime": {
     "end_time": "2019-09-08T01:03:36.481009Z",
     "start_time": "2019-09-07T23:21:49.922321Z"
    },
    "colab": {
     "base_uri": "https://localhost:8080/"
    },
    "id": "2bYQYDv1bBRC",
    "outputId": "691c8299-2ef8-48fd-fb1b-3746e30986e0"
   },
   "outputs": [
    {
     "name": "stdout",
     "output_type": "stream",
     "text": [
      "F = 10, penalty = 0 :\n"
     ]
    },
    {
     "name": "stderr",
     "output_type": "stream",
     "text": [
      "/usr/local/lib/python3.6/dist-packages/tensorflow/python/framework/indexed_slices.py:432: UserWarning: Converting sparse IndexedSlices to a dense Tensor of unknown shape. This may consume a large amount of memory.\n",
      "  \"Converting sparse IndexedSlices to a dense Tensor of unknown shape. \"\n"
     ]
    },
    {
     "name": "stdout",
     "output_type": "stream",
     "text": [
      "0: TRAIN Loss 1.1555,  Err 1.1555 || VAL Loss 1.0833, Err 1.0833\n",
      "10: TRAIN Loss 0.6849,  Err 0.6849 || VAL Loss 0.8394, Err 0.8394\n",
      "20: TRAIN Loss 0.5060,  Err 0.5060 || VAL Loss 0.8491, Err 0.8491\n",
      "30: TRAIN Loss 0.3944,  Err 0.3944 || VAL Loss 0.9026, Err 0.9026\n",
      "40: TRAIN Loss 0.3331,  Err 0.3331 || VAL Loss 0.9529, Err 0.9529\n",
      "50: TRAIN Loss 0.2967,  Err 0.2967 || VAL Loss 0.9939, Err 0.9939\n",
      "60: TRAIN Loss 0.2726,  Err 0.2726 || VAL Loss 1.0296, Err 1.0296\n",
      "70: TRAIN Loss 0.2553,  Err 0.2553 || VAL Loss 1.0642, Err 1.0642\n",
      "80: TRAIN Loss 0.2423,  Err 0.2423 || VAL Loss 1.0983, Err 1.0983\n",
      "90: TRAIN Loss 0.2321,  Err 0.2321 || VAL Loss 1.1333, Err 1.1333\n",
      "\n",
      "\n",
      "F = 10, penalty = 1e-05 :\n",
      "0: TRAIN Loss 1.2308,  Err 1.1431 || VAL Loss 1.1417, Err 1.0634\n",
      "10: TRAIN Loss 0.7264,  Err 0.6832 || VAL Loss 0.8625, Err 0.8198\n",
      "20: TRAIN Loss 0.5431,  Err 0.5012 || VAL Loss 0.8500, Err 0.8079\n",
      "30: TRAIN Loss 0.4356,  Err 0.3896 || VAL Loss 0.8829, Err 0.8368\n",
      "40: TRAIN Loss 0.3794,  Err 0.3308 || VAL Loss 0.9160, Err 0.8673\n",
      "50: TRAIN Loss 0.3474,  Err 0.2974 || VAL Loss 0.9427, Err 0.8925\n",
      "60: TRAIN Loss 0.3272,  Err 0.2763 || VAL Loss 0.9641, Err 0.9130\n",
      "70: TRAIN Loss 0.3133,  Err 0.2617 || VAL Loss 0.9815, Err 0.9298\n",
      "80: TRAIN Loss 0.3031,  Err 0.2510 || VAL Loss 0.9967, Err 0.9445\n",
      "90: TRAIN Loss 0.2953,  Err 0.2427 || VAL Loss 1.0096, Err 0.9570\n",
      "\n",
      "\n",
      "F = 10, penalty = 2e-05 :\n",
      "0: TRAIN Loss 1.3159,  Err 1.1436 || VAL Loss 1.2299, Err 1.0797\n",
      "10: TRAIN Loss 0.7538,  Err 0.6907 || VAL Loss 0.8887, Err 0.8269\n",
      "20: TRAIN Loss 0.5771,  Err 0.5197 || VAL Loss 0.8721, Err 0.8143\n",
      "30: TRAIN Loss 0.4736,  Err 0.4085 || VAL Loss 0.9072, Err 0.8417\n",
      "40: TRAIN Loss 0.4201,  Err 0.3492 || VAL Loss 0.9396, Err 0.8685\n",
      "50: TRAIN Loss 0.3899,  Err 0.3155 || VAL Loss 0.9630, Err 0.8884\n",
      "60: TRAIN Loss 0.3707,  Err 0.2940 || VAL Loss 0.9807, Err 0.9038\n",
      "70: TRAIN Loss 0.3574,  Err 0.2791 || VAL Loss 0.9953, Err 0.9168\n",
      "80: TRAIN Loss 0.3478,  Err 0.2682 || VAL Loss 1.0087, Err 0.9290\n",
      "90: TRAIN Loss 0.3406,  Err 0.2599 || VAL Loss 1.0205, Err 0.9397\n",
      "\n",
      "\n",
      "F = 10, penalty = 5e-05 :\n",
      "0: TRAIN Loss 1.5576,  Err 1.1379 || VAL Loss 1.4128, Err 1.0614\n",
      "10: TRAIN Loss 0.7820,  Err 0.6972 || VAL Loss 0.8865, Err 0.8045\n",
      "20: TRAIN Loss 0.6151,  Err 0.5424 || VAL Loss 0.8532, Err 0.7798\n",
      "30: TRAIN Loss 0.5254,  Err 0.4350 || VAL Loss 0.8853, Err 0.7942\n",
      "40: TRAIN Loss 0.4826,  Err 0.3793 || VAL Loss 0.9185, Err 0.8146\n",
      "50: TRAIN Loss 0.4602,  Err 0.3491 || VAL Loss 0.9416, Err 0.8302\n",
      "60: TRAIN Loss 0.4465,  Err 0.3309 || VAL Loss 0.9563, Err 0.8405\n",
      "70: TRAIN Loss 0.4371,  Err 0.3186 || VAL Loss 0.9663, Err 0.8477\n",
      "80: TRAIN Loss 0.4303,  Err 0.3100 || VAL Loss 0.9729, Err 0.8525\n",
      "90: TRAIN Loss 0.4251,  Err 0.3036 || VAL Loss 0.9778, Err 0.8562\n",
      "\n",
      "\n",
      "F = 10, penalty = 0.0001 :\n",
      "0: TRAIN Loss 1.9555,  Err 1.1375 || VAL Loss 1.7294, Err 1.0718\n",
      "10: TRAIN Loss 0.7958,  Err 0.7109 || VAL Loss 0.8744, Err 0.7936\n",
      "20: TRAIN Loss 0.6531,  Err 0.5845 || VAL Loss 0.8209, Err 0.7513\n",
      "30: TRAIN Loss 0.5867,  Err 0.4932 || VAL Loss 0.8381, Err 0.7434\n",
      "40: TRAIN Loss 0.5550,  Err 0.4424 || VAL Loss 0.8600, Err 0.7468\n",
      "50: TRAIN Loss 0.5379,  Err 0.4149 || VAL Loss 0.8742, Err 0.7508\n",
      "60: TRAIN Loss 0.5271,  Err 0.3984 || VAL Loss 0.8825, Err 0.7537\n",
      "70: TRAIN Loss 0.5195,  Err 0.3876 || VAL Loss 0.8884, Err 0.7564\n",
      "80: TRAIN Loss 0.5140,  Err 0.3801 || VAL Loss 0.8929, Err 0.7589\n",
      "90: TRAIN Loss 0.5098,  Err 0.3746 || VAL Loss 0.8967, Err 0.7614\n",
      "\n",
      "\n",
      "F = 20, penalty = 0 :\n",
      "0: TRAIN Loss 1.1006,  Err 1.1006 || VAL Loss 1.0384, Err 1.0384\n",
      "10: TRAIN Loss 0.5595,  Err 0.5595 || VAL Loss 0.8432, Err 0.8432\n",
      "20: TRAIN Loss 0.3185,  Err 0.3185 || VAL Loss 0.8997, Err 0.8997\n",
      "30: TRAIN Loss 0.2195,  Err 0.2195 || VAL Loss 0.9784, Err 0.9784\n",
      "40: TRAIN Loss 0.1724,  Err 0.1724 || VAL Loss 1.0421, Err 1.0421\n",
      "50: TRAIN Loss 0.1451,  Err 0.1451 || VAL Loss 1.0966, Err 1.0966\n",
      "60: TRAIN Loss 0.1272,  Err 0.1272 || VAL Loss 1.1476, Err 1.1476\n",
      "70: TRAIN Loss 0.1144,  Err 0.1144 || VAL Loss 1.1970, Err 1.1970\n",
      "80: TRAIN Loss 0.1049,  Err 0.1049 || VAL Loss 1.2460, Err 1.2460\n",
      "90: TRAIN Loss 0.0975,  Err 0.0975 || VAL Loss 1.2947, Err 1.2947\n",
      "\n",
      "\n",
      "F = 20, penalty = 1e-05 :\n",
      "0: TRAIN Loss 1.1798,  Err 1.0969 || VAL Loss 1.1024, Err 1.0307\n",
      "10: TRAIN Loss 0.6165,  Err 0.5690 || VAL Loss 0.8709, Err 0.8231\n",
      "20: TRAIN Loss 0.3849,  Err 0.3288 || VAL Loss 0.9049, Err 0.8484\n",
      "30: TRAIN Loss 0.2925,  Err 0.2313 || VAL Loss 0.9580, Err 0.8967\n",
      "40: TRAIN Loss 0.2484,  Err 0.1852 || VAL Loss 0.9975, Err 0.9342\n",
      "50: TRAIN Loss 0.2231,  Err 0.1587 || VAL Loss 1.0296, Err 0.9650\n",
      "60: TRAIN Loss 0.2069,  Err 0.1416 || VAL Loss 1.0568, Err 0.9914\n",
      "70: TRAIN Loss 0.1956,  Err 0.1296 || VAL Loss 1.0812, Err 1.0151\n",
      "80: TRAIN Loss 0.1873,  Err 0.1207 || VAL Loss 1.1038, Err 1.0372\n",
      "90: TRAIN Loss 0.1810,  Err 0.1139 || VAL Loss 1.1239, Err 1.0567\n",
      "\n",
      "\n",
      "F = 20, penalty = 2e-05 :\n",
      "0: TRAIN Loss 1.2618,  Err 1.1005 || VAL Loss 1.1805, Err 1.0454\n",
      "10: TRAIN Loss 0.6472,  Err 0.5779 || VAL Loss 0.8903, Err 0.8208\n",
      "20: TRAIN Loss 0.4234,  Err 0.3395 || VAL Loss 0.9152, Err 0.8306\n",
      "30: TRAIN Loss 0.3344,  Err 0.2398 || VAL Loss 0.9694, Err 0.8743\n",
      "40: TRAIN Loss 0.2939,  Err 0.1939 || VAL Loss 1.0111, Err 0.9109\n",
      "50: TRAIN Loss 0.2715,  Err 0.1686 || VAL Loss 1.0420, Err 0.9389\n",
      "60: TRAIN Loss 0.2575,  Err 0.1529 || VAL Loss 1.0658, Err 0.9610\n",
      "70: TRAIN Loss 0.2479,  Err 0.1421 || VAL Loss 1.0853, Err 0.9794\n",
      "80: TRAIN Loss 0.2409,  Err 0.1344 || VAL Loss 1.1020, Err 0.9953\n",
      "90: TRAIN Loss 0.2356,  Err 0.1285 || VAL Loss 1.1165, Err 1.0093\n",
      "\n",
      "\n",
      "F = 20, penalty = 5e-05 :\n",
      "0: TRAIN Loss 1.4872,  Err 1.0998 || VAL Loss 1.3356, Err 1.0305\n",
      "10: TRAIN Loss 0.7023,  Err 0.6104 || VAL Loss 0.8861, Err 0.7942\n",
      "20: TRAIN Loss 0.5090,  Err 0.3903 || VAL Loss 0.8967, Err 0.7764\n",
      "30: TRAIN Loss 0.4367,  Err 0.2937 || VAL Loss 0.9449, Err 0.8010\n",
      "40: TRAIN Loss 0.4051,  Err 0.2492 || VAL Loss 0.9796, Err 0.8232\n",
      "50: TRAIN Loss 0.3877,  Err 0.2250 || VAL Loss 1.0008, Err 0.8377\n",
      "60: TRAIN Loss 0.3764,  Err 0.2103 || VAL Loss 1.0138, Err 0.8474\n",
      "70: TRAIN Loss 0.3684,  Err 0.2002 || VAL Loss 1.0225, Err 0.8542\n",
      "80: TRAIN Loss 0.3623,  Err 0.1931 || VAL Loss 1.0288, Err 0.8594\n",
      "90: TRAIN Loss 0.3577,  Err 0.1878 || VAL Loss 1.0342, Err 0.8641\n",
      "\n",
      "\n",
      "F = 20, penalty = 0.0001 :\n",
      "0: TRAIN Loss 1.8473,  Err 1.0968 || VAL Loss 1.5824, Err 1.0253\n",
      "10: TRAIN Loss 0.7405,  Err 0.6521 || VAL Loss 0.8688, Err 0.7810\n",
      "20: TRAIN Loss 0.5975,  Err 0.4770 || VAL Loss 0.8663, Err 0.7437\n",
      "30: TRAIN Loss 0.5436,  Err 0.3881 || VAL Loss 0.9020, Err 0.7454\n",
      "40: TRAIN Loss 0.5189,  Err 0.3460 || VAL Loss 0.9242, Err 0.7508\n",
      "50: TRAIN Loss 0.5045,  Err 0.3237 || VAL Loss 0.9357, Err 0.7548\n",
      "60: TRAIN Loss 0.4948,  Err 0.3104 || VAL Loss 0.9424, Err 0.7578\n",
      "70: TRAIN Loss 0.4879,  Err 0.3015 || VAL Loss 0.9472, Err 0.7608\n",
      "80: TRAIN Loss 0.4828,  Err 0.2955 || VAL Loss 0.9508, Err 0.7634\n",
      "90: TRAIN Loss 0.4789,  Err 0.2909 || VAL Loss 0.9541, Err 0.7660\n",
      "\n",
      "\n",
      "F = 25, penalty = 0 :\n",
      "0: TRAIN Loss 1.0965,  Err 1.0965 || VAL Loss 1.0359, Err 1.0359\n",
      "10: TRAIN Loss 0.5115,  Err 0.5115 || VAL Loss 0.8516, Err 0.8516\n",
      "20: TRAIN Loss 0.2642,  Err 0.2642 || VAL Loss 0.9205, Err 0.9205\n",
      "30: TRAIN Loss 0.1733,  Err 0.1733 || VAL Loss 1.0024, Err 1.0024\n",
      "40: TRAIN Loss 0.1307,  Err 0.1307 || VAL Loss 1.0710, Err 1.0710\n",
      "50: TRAIN Loss 0.1060,  Err 0.1060 || VAL Loss 1.1331, Err 1.1331\n",
      "60: TRAIN Loss 0.0898,  Err 0.0898 || VAL Loss 1.1918, Err 1.1918\n",
      "70: TRAIN Loss 0.0784,  Err 0.0784 || VAL Loss 1.2488, Err 1.2488\n",
      "80: TRAIN Loss 0.0699,  Err 0.0699 || VAL Loss 1.3023, Err 1.3023\n",
      "90: TRAIN Loss 0.0634,  Err 0.0634 || VAL Loss 1.3546, Err 1.3546\n",
      "\n",
      "\n",
      "F = 25, penalty = 1e-05 :\n",
      "0: TRAIN Loss 1.1740,  Err 1.0921 || VAL Loss 1.0924, Err 1.0226\n",
      "10: TRAIN Loss 0.5652,  Err 0.5150 || VAL Loss 0.8629, Err 0.8121\n",
      "20: TRAIN Loss 0.3306,  Err 0.2692 || VAL Loss 0.8992, Err 0.8374\n",
      "30: TRAIN Loss 0.2450,  Err 0.1788 || VAL Loss 0.9559, Err 0.8896\n",
      "40: TRAIN Loss 0.2054,  Err 0.1375 || VAL Loss 1.0000, Err 0.9320\n",
      "50: TRAIN Loss 0.1829,  Err 0.1142 || VAL Loss 1.0354, Err 0.9666\n",
      "60: TRAIN Loss 0.1684,  Err 0.0991 || VAL Loss 1.0657, Err 0.9963\n",
      "70: TRAIN Loss 0.1585,  Err 0.0888 || VAL Loss 1.0927, Err 1.0229\n",
      "80: TRAIN Loss 0.1514,  Err 0.0815 || VAL Loss 1.1163, Err 1.0462\n",
      "90: TRAIN Loss 0.1461,  Err 0.0759 || VAL Loss 1.1380, Err 1.0678\n",
      "\n",
      "\n",
      "F = 25, penalty = 2e-05 :\n",
      "0: TRAIN Loss 1.2498,  Err 1.0916 || VAL Loss 1.1561, Err 1.0259\n",
      "10: TRAIN Loss 0.6081,  Err 0.5349 || VAL Loss 0.8932, Err 0.8193\n",
      "20: TRAIN Loss 0.3773,  Err 0.2847 || VAL Loss 0.9386, Err 0.8452\n",
      "30: TRAIN Loss 0.2952,  Err 0.1919 || VAL Loss 0.9953, Err 0.8915\n",
      "40: TRAIN Loss 0.2588,  Err 0.1505 || VAL Loss 1.0348, Err 0.9261\n",
      "50: TRAIN Loss 0.2388,  Err 0.1278 || VAL Loss 1.0635, Err 0.9523\n",
      "60: TRAIN Loss 0.2261,  Err 0.1137 || VAL Loss 1.0868, Err 0.9742\n",
      "70: TRAIN Loss 0.2173,  Err 0.1040 || VAL Loss 1.1064, Err 0.9930\n",
      "80: TRAIN Loss 0.2108,  Err 0.0970 || VAL Loss 1.1229, Err 1.0090\n",
      "90: TRAIN Loss 0.2058,  Err 0.0917 || VAL Loss 1.1377, Err 1.0234\n",
      "\n",
      "\n",
      "F = 25, penalty = 5e-05 :\n",
      "0: TRAIN Loss 1.4695,  Err 1.0910 || VAL Loss 1.3130, Err 1.0217\n",
      "10: TRAIN Loss 0.6686,  Err 0.5701 || VAL Loss 0.8824, Err 0.7829\n",
      "20: TRAIN Loss 0.4757,  Err 0.3399 || VAL Loss 0.9038, Err 0.7663\n",
      "30: TRAIN Loss 0.4098,  Err 0.2486 || VAL Loss 0.9484, Err 0.7863\n",
      "40: TRAIN Loss 0.3815,  Err 0.2080 || VAL Loss 0.9787, Err 0.8046\n",
      "50: TRAIN Loss 0.3657,  Err 0.1864 || VAL Loss 0.9990, Err 0.8192\n",
      "60: TRAIN Loss 0.3552,  Err 0.1730 || VAL Loss 1.0133, Err 0.8309\n",
      "70: TRAIN Loss 0.3476,  Err 0.1643 || VAL Loss 1.0248, Err 0.8413\n",
      "80: TRAIN Loss 0.3419,  Err 0.1579 || VAL Loss 1.0344, Err 0.8502\n",
      "90: TRAIN Loss 0.3374,  Err 0.1530 || VAL Loss 1.0429, Err 0.8583\n",
      "\n",
      "\n",
      "F = 25, penalty = 0.0001 :\n",
      "0: TRAIN Loss 1.8163,  Err 1.0906 || VAL Loss 1.5421, Err 1.0199\n",
      "10: TRAIN Loss 0.7248,  Err 0.6328 || VAL Loss 0.8728, Err 0.7802\n",
      "20: TRAIN Loss 0.5785,  Err 0.4387 || VAL Loss 0.8856, Err 0.7434\n",
      "30: TRAIN Loss 0.5300,  Err 0.3546 || VAL Loss 0.9215, Err 0.7449\n",
      "40: TRAIN Loss 0.5078,  Err 0.3161 || VAL Loss 0.9410, Err 0.7487\n",
      "50: TRAIN Loss 0.4945,  Err 0.2955 || VAL Loss 0.9518, Err 0.7525\n",
      "60: TRAIN Loss 0.4855,  Err 0.2833 || VAL Loss 0.9586, Err 0.7561\n",
      "70: TRAIN Loss 0.4791,  Err 0.2752 || VAL Loss 0.9639, Err 0.7599\n",
      "80: TRAIN Loss 0.4743,  Err 0.2697 || VAL Loss 0.9682, Err 0.7634\n",
      "90: TRAIN Loss 0.4706,  Err 0.2655 || VAL Loss 0.9718, Err 0.7666\n",
      "\n",
      "\n",
      "F = 50, penalty = 0 :\n",
      "0: TRAIN Loss 1.0788,  Err 1.0788 || VAL Loss 1.0133, Err 1.0133\n",
      "10: TRAIN Loss 0.3192,  Err 0.3192 || VAL Loss 0.8488, Err 0.8488\n",
      "20: TRAIN Loss 0.1042,  Err 0.1042 || VAL Loss 0.9391, Err 0.9391\n",
      "30: TRAIN Loss 0.0485,  Err 0.0485 || VAL Loss 1.0155, Err 1.0155\n",
      "40: TRAIN Loss 0.0265,  Err 0.0265 || VAL Loss 1.0762, Err 1.0762\n",
      "50: TRAIN Loss 0.0158,  Err 0.0158 || VAL Loss 1.1274, Err 1.1274\n",
      "60: TRAIN Loss 0.0101,  Err 0.0101 || VAL Loss 1.1706, Err 1.1706\n",
      "70: TRAIN Loss 0.0069,  Err 0.0069 || VAL Loss 1.2092, Err 1.2092\n",
      "80: TRAIN Loss 0.0050,  Err 0.0050 || VAL Loss 1.2403, Err 1.2403\n",
      "90: TRAIN Loss 0.0039,  Err 0.0039 || VAL Loss 1.2652, Err 1.2652\n",
      "\n",
      "\n",
      "F = 50, penalty = 1e-05 :\n",
      "0: TRAIN Loss 1.1509,  Err 1.0744 || VAL Loss 1.0753, Err 1.0126\n",
      "10: TRAIN Loss 0.3909,  Err 0.3289 || VAL Loss 0.8805, Err 0.8173\n",
      "20: TRAIN Loss 0.1873,  Err 0.1117 || VAL Loss 0.9485, Err 0.8725\n",
      "30: TRAIN Loss 0.1332,  Err 0.0555 || VAL Loss 0.9946, Err 0.9168\n",
      "40: TRAIN Loss 0.1112,  Err 0.0340 || VAL Loss 1.0216, Err 0.9443\n",
      "50: TRAIN Loss 0.0999,  Err 0.0239 || VAL Loss 1.0404, Err 0.9642\n",
      "60: TRAIN Loss 0.0932,  Err 0.0184 || VAL Loss 1.0560, Err 0.9810\n",
      "70: TRAIN Loss 0.0887,  Err 0.0150 || VAL Loss 1.0685, Err 0.9945\n",
      "80: TRAIN Loss 0.0857,  Err 0.0129 || VAL Loss 1.0792, Err 1.0061\n",
      "90: TRAIN Loss 0.0834,  Err 0.0115 || VAL Loss 1.0874, Err 1.0152\n",
      "\n",
      "\n",
      "F = 50, penalty = 2e-05 :\n",
      "0: TRAIN Loss 1.2216,  Err 1.0756 || VAL Loss 1.1241, Err 1.0102\n",
      "10: TRAIN Loss 0.4457,  Err 0.3517 || VAL Loss 0.8966, Err 0.8004\n",
      "20: TRAIN Loss 0.2510,  Err 0.1300 || VAL Loss 0.9634, Err 0.8415\n",
      "30: TRAIN Loss 0.1993,  Err 0.0712 || VAL Loss 1.0088, Err 0.8803\n",
      "40: TRAIN Loss 0.1780,  Err 0.0488 || VAL Loss 1.0346, Err 0.9051\n",
      "50: TRAIN Loss 0.1664,  Err 0.0378 || VAL Loss 1.0511, Err 0.9222\n",
      "60: TRAIN Loss 0.1590,  Err 0.0318 || VAL Loss 1.0620, Err 0.9344\n",
      "70: TRAIN Loss 0.1541,  Err 0.0282 || VAL Loss 1.0698, Err 0.9436\n",
      "80: TRAIN Loss 0.1505,  Err 0.0259 || VAL Loss 1.0761, Err 0.9511\n",
      "90: TRAIN Loss 0.1478,  Err 0.0242 || VAL Loss 1.0810, Err 0.9570\n",
      "\n",
      "\n",
      "F = 50, penalty = 5e-05 :\n",
      "0: TRAIN Loss 1.4126,  Err 1.0723 || VAL Loss 1.2502, Err 1.0084\n",
      "10: TRAIN Loss 0.5548,  Err 0.4214 || VAL Loss 0.9149, Err 0.7775\n",
      "20: TRAIN Loss 0.3907,  Err 0.1994 || VAL Loss 0.9776, Err 0.7844\n",
      "30: TRAIN Loss 0.3474,  Err 0.1351 || VAL Loss 1.0152, Err 0.8019\n",
      "40: TRAIN Loss 0.3285,  Err 0.1103 || VAL Loss 1.0304, Err 0.8116\n",
      "50: TRAIN Loss 0.3171,  Err 0.0983 || VAL Loss 1.0364, Err 0.8172\n",
      "60: TRAIN Loss 0.3095,  Err 0.0919 || VAL Loss 1.0386, Err 0.8204\n",
      "70: TRAIN Loss 0.3041,  Err 0.0878 || VAL Loss 1.0396, Err 0.8229\n",
      "80: TRAIN Loss 0.3000,  Err 0.0849 || VAL Loss 1.0407, Err 0.8252\n",
      "90: TRAIN Loss 0.2969,  Err 0.0828 || VAL Loss 1.0418, Err 0.8273\n",
      "\n",
      "\n",
      "F = 50, penalty = 0.0001 :\n",
      "0: TRAIN Loss 1.7114,  Err 1.0717 || VAL Loss 1.4152, Err 1.0057\n",
      "10: TRAIN Loss 0.6570,  Err 0.5253 || VAL Loss 0.8852, Err 0.7491\n",
      "20: TRAIN Loss 0.5395,  Err 0.3336 || VAL Loss 0.9341, Err 0.7257\n",
      "30: TRAIN Loss 0.5049,  Err 0.2705 || VAL Loss 0.9604, Err 0.7251\n",
      "40: TRAIN Loss 0.4873,  Err 0.2443 || VAL Loss 0.9694, Err 0.7260\n",
      "50: TRAIN Loss 0.4761,  Err 0.2311 || VAL Loss 0.9725, Err 0.7273\n",
      "60: TRAIN Loss 0.4686,  Err 0.2237 || VAL Loss 0.9747, Err 0.7297\n",
      "70: TRAIN Loss 0.4631,  Err 0.2191 || VAL Loss 0.9768, Err 0.7325\n",
      "80: TRAIN Loss 0.4591,  Err 0.2156 || VAL Loss 0.9791, Err 0.7356\n",
      "90: TRAIN Loss 0.4560,  Err 0.2133 || VAL Loss 0.9813, Err 0.7385\n",
      "\n",
      "\n",
      "F = 100, penalty = 0 :\n",
      "0: TRAIN Loss 1.0679,  Err 1.0679 || VAL Loss 1.0024, Err 1.0024\n",
      "10: TRAIN Loss 0.1389,  Err 0.1389 || VAL Loss 0.8425, Err 0.8425\n",
      "20: TRAIN Loss 0.0189,  Err 0.0189 || VAL Loss 0.9182, Err 0.9182\n",
      "30: TRAIN Loss 0.0047,  Err 0.0047 || VAL Loss 0.9521, Err 0.9521\n",
      "40: TRAIN Loss 0.0029,  Err 0.0029 || VAL Loss 0.9612, Err 0.9612\n",
      "50: TRAIN Loss 0.0030,  Err 0.0030 || VAL Loss 0.9579, Err 0.9579\n",
      "60: TRAIN Loss 0.0030,  Err 0.0030 || VAL Loss 0.9498, Err 0.9498\n",
      "70: TRAIN Loss 0.0029,  Err 0.0029 || VAL Loss 0.9421, Err 0.9421\n",
      "80: TRAIN Loss 0.0028,  Err 0.0028 || VAL Loss 0.9347, Err 0.9347\n",
      "90: TRAIN Loss 0.0026,  Err 0.0026 || VAL Loss 0.9285, Err 0.9285\n",
      "\n",
      "\n",
      "F = 100, penalty = 1e-05 :\n",
      "0: TRAIN Loss 1.1378,  Err 1.0671 || VAL Loss 1.0573, Err 1.0018\n",
      "10: TRAIN Loss 0.2302,  Err 0.1538 || VAL Loss 0.8808, Err 0.8030\n",
      "20: TRAIN Loss 0.1106,  Err 0.0263 || VAL Loss 0.9254, Err 0.8410\n",
      "30: TRAIN Loss 0.0917,  Err 0.0110 || VAL Loss 0.9286, Err 0.8478\n",
      "40: TRAIN Loss 0.0851,  Err 0.0085 || VAL Loss 0.9156, Err 0.8387\n",
      "50: TRAIN Loss 0.0815,  Err 0.0080 || VAL Loss 0.8987, Err 0.8248\n",
      "60: TRAIN Loss 0.0789,  Err 0.0077 || VAL Loss 0.8851, Err 0.8133\n",
      "70: TRAIN Loss 0.0770,  Err 0.0075 || VAL Loss 0.8748, Err 0.8047\n",
      "80: TRAIN Loss 0.0756,  Err 0.0074 || VAL Loss 0.8678, Err 0.7989\n",
      "90: TRAIN Loss 0.0745,  Err 0.0072 || VAL Loss 0.8634, Err 0.7955\n",
      "\n",
      "\n",
      "F = 100, penalty = 2e-05 :\n",
      "0: TRAIN Loss 1.1978,  Err 1.0661 || VAL Loss 1.0999, Err 1.0031\n",
      "10: TRAIN Loss 0.2959,  Err 0.1753 || VAL Loss 0.9168, Err 0.7936\n",
      "20: TRAIN Loss 0.1804,  Err 0.0407 || VAL Loss 0.9630, Err 0.8227\n",
      "30: TRAIN Loss 0.1600,  Err 0.0225 || VAL Loss 0.9638, Err 0.8257\n",
      "40: TRAIN Loss 0.1514,  Err 0.0185 || VAL Loss 0.9515, Err 0.8180\n",
      "50: TRAIN Loss 0.1461,  Err 0.0174 || VAL Loss 0.9380, Err 0.8084\n",
      "60: TRAIN Loss 0.1423,  Err 0.0166 || VAL Loss 0.9276, Err 0.8011\n",
      "70: TRAIN Loss 0.1395,  Err 0.0162 || VAL Loss 0.9213, Err 0.7971\n",
      "80: TRAIN Loss 0.1375,  Err 0.0159 || VAL Loss 0.9170, Err 0.7944\n",
      "90: TRAIN Loss 0.1360,  Err 0.0157 || VAL Loss 0.9145, Err 0.7931\n",
      "\n",
      "\n",
      "F = 100, penalty = 5e-05 :\n",
      "0: TRAIN Loss 1.3638,  Err 1.0657 || VAL Loss 1.1938, Err 1.0011\n",
      "10: TRAIN Loss 0.4481,  Err 0.2640 || VAL Loss 0.9433, Err 0.7538\n",
      "20: TRAIN Loss 0.3460,  Err 0.1101 || VAL Loss 0.9906, Err 0.7530\n",
      "30: TRAIN Loss 0.3231,  Err 0.0825 || VAL Loss 0.9917, Err 0.7505\n",
      "40: TRAIN Loss 0.3110,  Err 0.0750 || VAL Loss 0.9845, Err 0.7475\n",
      "50: TRAIN Loss 0.3029,  Err 0.0713 || VAL Loss 0.9786, Err 0.7462\n",
      "60: TRAIN Loss 0.2975,  Err 0.0698 || VAL Loss 0.9760, Err 0.7471\n",
      "70: TRAIN Loss 0.2935,  Err 0.0684 || VAL Loss 0.9743, Err 0.7481\n",
      "80: TRAIN Loss 0.2905,  Err 0.0674 || VAL Loss 0.9745, Err 0.7505\n",
      "90: TRAIN Loss 0.2883,  Err 0.0669 || VAL Loss 0.9753, Err 0.7529\n",
      "\n",
      "\n",
      "F = 100, penalty = 0.0001 :\n",
      "0: TRAIN Loss 1.6114,  Err 1.0637 || VAL Loss 1.2990, Err 0.9961\n",
      "10: TRAIN Loss 0.6048,  Err 0.4132 || VAL Loss 0.9300, Err 0.7322\n",
      "20: TRAIN Loss 0.5236,  Err 0.2636 || VAL Loss 0.9794, Err 0.7174\n",
      "30: TRAIN Loss 0.4986,  Err 0.2277 || VAL Loss 0.9870, Err 0.7153\n",
      "40: TRAIN Loss 0.4844,  Err 0.2152 || VAL Loss 0.9858, Err 0.7160\n",
      "50: TRAIN Loss 0.4751,  Err 0.2092 || VAL Loss 0.9846, Err 0.7185\n",
      "60: TRAIN Loss 0.4685,  Err 0.2057 || VAL Loss 0.9842, Err 0.7215\n",
      "70: TRAIN Loss 0.4639,  Err 0.2040 || VAL Loss 0.9852, Err 0.7250\n",
      "80: TRAIN Loss 0.4604,  Err 0.2026 || VAL Loss 0.9865, Err 0.7281\n",
      "90: TRAIN Loss 0.4578,  Err 0.2015 || VAL Loss 0.9876, Err 0.7311\n",
      "\n",
      "\n",
      "F = 150, penalty = 0 :\n",
      "0: TRAIN Loss 1.0650,  Err 1.0650 || VAL Loss 1.0000, Err 1.0000\n",
      "10: TRAIN Loss 0.0652,  Err 0.0652 || VAL Loss 0.8331, Err 0.8331\n",
      "20: TRAIN Loss 0.0057,  Err 0.0057 || VAL Loss 0.8736, Err 0.8736\n",
      "30: TRAIN Loss 0.0034,  Err 0.0034 || VAL Loss 0.8779, Err 0.8779\n",
      "40: TRAIN Loss 0.0038,  Err 0.0038 || VAL Loss 0.8718, Err 0.8718\n",
      "50: TRAIN Loss 0.0040,  Err 0.0040 || VAL Loss 0.8630, Err 0.8630\n",
      "60: TRAIN Loss 0.0038,  Err 0.0038 || VAL Loss 0.8547, Err 0.8547\n",
      "70: TRAIN Loss 0.0036,  Err 0.0036 || VAL Loss 0.8487, Err 0.8487\n",
      "80: TRAIN Loss 0.0035,  Err 0.0035 || VAL Loss 0.8429, Err 0.8429\n",
      "90: TRAIN Loss 0.0033,  Err 0.0033 || VAL Loss 0.8379, Err 0.8379\n",
      "\n",
      "\n",
      "F = 150, penalty = 1e-05 :\n",
      "0: TRAIN Loss 1.1299,  Err 1.0627 || VAL Loss 1.0516, Err 1.0001\n",
      "10: TRAIN Loss 0.1634,  Err 0.0792 || VAL Loss 0.8900, Err 0.8048\n",
      "20: TRAIN Loss 0.0975,  Err 0.0124 || VAL Loss 0.9022, Err 0.8171\n",
      "30: TRAIN Loss 0.0887,  Err 0.0095 || VAL Loss 0.8814, Err 0.8018\n",
      "40: TRAIN Loss 0.0844,  Err 0.0094 || VAL Loss 0.8588, Err 0.7833\n",
      "50: TRAIN Loss 0.0813,  Err 0.0092 || VAL Loss 0.8434, Err 0.7706\n",
      "60: TRAIN Loss 0.0790,  Err 0.0089 || VAL Loss 0.8347, Err 0.7639\n",
      "70: TRAIN Loss 0.0774,  Err 0.0087 || VAL Loss 0.8301, Err 0.7606\n",
      "80: TRAIN Loss 0.0761,  Err 0.0085 || VAL Loss 0.8276, Err 0.7592\n",
      "90: TRAIN Loss 0.0751,  Err 0.0083 || VAL Loss 0.8278, Err 0.7602\n",
      "\n",
      "\n",
      "F = 150, penalty = 2e-05 :\n",
      "0: TRAIN Loss 1.1861,  Err 1.0633 || VAL Loss 1.0865, Err 0.9993\n",
      "10: TRAIN Loss 0.2381,  Err 0.1028 || VAL Loss 0.9201, Err 0.7824\n",
      "20: TRAIN Loss 0.1687,  Err 0.0247 || VAL Loss 0.9363, Err 0.7917\n",
      "30: TRAIN Loss 0.1568,  Err 0.0192 || VAL Loss 0.9160, Err 0.7776\n",
      "40: TRAIN Loss 0.1500,  Err 0.0182 || VAL Loss 0.8965, Err 0.7636\n",
      "50: TRAIN Loss 0.1455,  Err 0.0177 || VAL Loss 0.8851, Err 0.7560\n",
      "60: TRAIN Loss 0.1421,  Err 0.0172 || VAL Loss 0.8797, Err 0.7535\n",
      "70: TRAIN Loss 0.1396,  Err 0.0168 || VAL Loss 0.8777, Err 0.7536\n",
      "80: TRAIN Loss 0.1378,  Err 0.0165 || VAL Loss 0.8769, Err 0.7542\n",
      "90: TRAIN Loss 0.1365,  Err 0.0163 || VAL Loss 0.8780, Err 0.7565\n",
      "\n",
      "\n",
      "F = 150, penalty = 5e-05 :\n",
      "0: TRAIN Loss 1.3344,  Err 1.0625 || VAL Loss 1.1618, Err 0.9966\n",
      "10: TRAIN Loss 0.4070,  Err 0.1927 || VAL Loss 0.9647, Err 0.7451\n",
      "20: TRAIN Loss 0.3390,  Err 0.0886 || VAL Loss 0.9919, Err 0.7400\n",
      "30: TRAIN Loss 0.3212,  Err 0.0751 || VAL Loss 0.9810, Err 0.7335\n",
      "40: TRAIN Loss 0.3106,  Err 0.0716 || VAL Loss 0.9719, Err 0.7313\n",
      "50: TRAIN Loss 0.3035,  Err 0.0696 || VAL Loss 0.9668, Err 0.7316\n",
      "60: TRAIN Loss 0.2985,  Err 0.0684 || VAL Loss 0.9659, Err 0.7343\n",
      "70: TRAIN Loss 0.2949,  Err 0.0677 || VAL Loss 0.9662, Err 0.7375\n",
      "80: TRAIN Loss 0.2924,  Err 0.0672 || VAL Loss 0.9674, Err 0.7408\n",
      "90: TRAIN Loss 0.2902,  Err 0.0664 || VAL Loss 0.9692, Err 0.7441\n",
      "\n",
      "\n",
      "F = 150, penalty = 0.0001 :\n",
      "0: TRAIN Loss 1.5521,  Err 1.0621 || VAL Loss 1.2401, Err 0.9945\n",
      "10: TRAIN Loss 0.5881,  Err 0.3608 || VAL Loss 0.9616, Err 0.7281\n",
      "20: TRAIN Loss 0.5239,  Err 0.2431 || VAL Loss 0.9959, Err 0.7135\n",
      "30: TRAIN Loss 0.5011,  Err 0.2196 || VAL Loss 0.9938, Err 0.7119\n",
      "40: TRAIN Loss 0.4878,  Err 0.2122 || VAL Loss 0.9899, Err 0.7137\n",
      "50: TRAIN Loss 0.4788,  Err 0.2086 || VAL Loss 0.9878, Err 0.7167\n",
      "60: TRAIN Loss 0.4726,  Err 0.2061 || VAL Loss 0.9872, Err 0.7205\n",
      "70: TRAIN Loss 0.4680,  Err 0.2051 || VAL Loss 0.9876, Err 0.7242\n",
      "80: TRAIN Loss 0.4646,  Err 0.2038 || VAL Loss 0.9885, Err 0.7274\n",
      "90: TRAIN Loss 0.4620,  Err 0.2034 || VAL Loss 0.9897, Err 0.7305\n",
      "\n",
      "\n",
      "==> 150,0.0001,0.733319885460423 == best (150,0.0001,0.733319885460423) ===========\n"
     ]
    }
   ],
   "source": [
    "steps=100\n",
    "F_range=[10,20,25,50,100,150]\n",
    "penalty_range=[0,1e-5,2e-5,5e-5,1e-4]\n",
    "\n",
    "results=grid_search(F_range, penalty_range, steps, verbose=False)"
   ]
  },
  {
   "cell_type": "code",
   "execution_count": 344,
   "metadata": {
    "ExecuteTime": {
     "end_time": "2019-09-08T01:03:36.508243Z",
     "start_time": "2019-09-08T01:03:36.488821Z"
    },
    "colab": {
     "base_uri": "https://localhost:8080/",
     "height": 196
    },
    "id": "cvo4mTojbBRI",
    "outputId": "7fdee0bc-0e07-46d0-a8ed-e824f780acc5"
   },
   "outputs": [
    {
     "name": "stdout",
     "output_type": "stream",
     "text": [
      "best F 100.0, best penalty 0.0001\n"
     ]
    },
    {
     "data": {
      "text/html": [
       "<style  type=\"text/css\" >\n",
       "#T_4c226900_1fe4_11eb_a8e1_0242ac1c0002row4_col4{\n",
       "            background-color:  yellow;\n",
       "        }</style><table id=\"T_4c226900_1fe4_11eb_a8e1_0242ac1c0002\" ><thead>    <tr>        <th class=\"index_name level0\" >penalty</th>        <th class=\"col_heading level0 col0\" >0.0</th>        <th class=\"col_heading level0 col1\" >1e-05</th>        <th class=\"col_heading level0 col2\" >2e-05</th>        <th class=\"col_heading level0 col3\" >5e-05</th>        <th class=\"col_heading level0 col4\" >0.0001</th>    </tr>    <tr>        <th class=\"index_name level0\" >F</th>        <th class=\"blank\" ></th>        <th class=\"blank\" ></th>        <th class=\"blank\" ></th>        <th class=\"blank\" ></th>        <th class=\"blank\" ></th>    </tr></thead><tbody>\n",
       "                <tr>\n",
       "                        <th id=\"T_4c226900_1fe4_11eb_a8e1_0242ac1c0002level0_row0\" class=\"row_heading level0 row0\" >10</th>\n",
       "                        <td id=\"T_4c226900_1fe4_11eb_a8e1_0242ac1c0002row0_col0\" class=\"data row0 col0\" >1.165259</td>\n",
       "                        <td id=\"T_4c226900_1fe4_11eb_a8e1_0242ac1c0002row0_col1\" class=\"data row0 col1\" >0.967877</td>\n",
       "                        <td id=\"T_4c226900_1fe4_11eb_a8e1_0242ac1c0002row0_col2\" class=\"data row0 col2\" >0.948778</td>\n",
       "                        <td id=\"T_4c226900_1fe4_11eb_a8e1_0242ac1c0002row0_col3\" class=\"data row0 col3\" >0.858901</td>\n",
       "                        <td id=\"T_4c226900_1fe4_11eb_a8e1_0242ac1c0002row0_col4\" class=\"data row0 col4\" >0.763371</td>\n",
       "            </tr>\n",
       "            <tr>\n",
       "                        <th id=\"T_4c226900_1fe4_11eb_a8e1_0242ac1c0002level0_row1\" class=\"row_heading level0 row1\" >20</th>\n",
       "                        <td id=\"T_4c226900_1fe4_11eb_a8e1_0242ac1c0002row1_col0\" class=\"data row1 col0\" >1.338170</td>\n",
       "                        <td id=\"T_4c226900_1fe4_11eb_a8e1_0242ac1c0002row1_col1\" class=\"data row1 col1\" >1.072398</td>\n",
       "                        <td id=\"T_4c226900_1fe4_11eb_a8e1_0242ac1c0002row1_col2\" class=\"data row1 col2\" >1.019727</td>\n",
       "                        <td id=\"T_4c226900_1fe4_11eb_a8e1_0242ac1c0002row1_col3\" class=\"data row1 col3\" >0.867622</td>\n",
       "                        <td id=\"T_4c226900_1fe4_11eb_a8e1_0242ac1c0002row1_col4\" class=\"data row1 col4\" >0.768261</td>\n",
       "            </tr>\n",
       "            <tr>\n",
       "                        <th id=\"T_4c226900_1fe4_11eb_a8e1_0242ac1c0002level0_row2\" class=\"row_heading level0 row2\" >25</th>\n",
       "                        <td id=\"T_4c226900_1fe4_11eb_a8e1_0242ac1c0002row2_col0\" class=\"data row2 col0\" >1.400793</td>\n",
       "                        <td id=\"T_4c226900_1fe4_11eb_a8e1_0242ac1c0002row2_col1\" class=\"data row2 col1\" >1.085025</td>\n",
       "                        <td id=\"T_4c226900_1fe4_11eb_a8e1_0242ac1c0002row2_col2\" class=\"data row2 col2\" >1.034732</td>\n",
       "                        <td id=\"T_4c226900_1fe4_11eb_a8e1_0242ac1c0002row2_col3\" class=\"data row2 col3\" >0.865184</td>\n",
       "                        <td id=\"T_4c226900_1fe4_11eb_a8e1_0242ac1c0002row2_col4\" class=\"data row2 col4\" >0.769668</td>\n",
       "            </tr>\n",
       "            <tr>\n",
       "                        <th id=\"T_4c226900_1fe4_11eb_a8e1_0242ac1c0002level0_row3\" class=\"row_heading level0 row3\" >50</th>\n",
       "                        <td id=\"T_4c226900_1fe4_11eb_a8e1_0242ac1c0002row3_col0\" class=\"data row3 col0\" >1.283078</td>\n",
       "                        <td id=\"T_4c226900_1fe4_11eb_a8e1_0242ac1c0002row3_col1\" class=\"data row3 col1\" >1.022205</td>\n",
       "                        <td id=\"T_4c226900_1fe4_11eb_a8e1_0242ac1c0002row3_col2\" class=\"data row3 col2\" >0.961770</td>\n",
       "                        <td id=\"T_4c226900_1fe4_11eb_a8e1_0242ac1c0002row3_col3\" class=\"data row3 col3\" >0.829193</td>\n",
       "                        <td id=\"T_4c226900_1fe4_11eb_a8e1_0242ac1c0002row3_col4\" class=\"data row3 col4\" >0.741140</td>\n",
       "            </tr>\n",
       "            <tr>\n",
       "                        <th id=\"T_4c226900_1fe4_11eb_a8e1_0242ac1c0002level0_row4\" class=\"row_heading level0 row4\" >100</th>\n",
       "                        <td id=\"T_4c226900_1fe4_11eb_a8e1_0242ac1c0002row4_col0\" class=\"data row4 col0\" >0.923903</td>\n",
       "                        <td id=\"T_4c226900_1fe4_11eb_a8e1_0242ac1c0002row4_col1\" class=\"data row4 col1\" >0.793229</td>\n",
       "                        <td id=\"T_4c226900_1fe4_11eb_a8e1_0242ac1c0002row4_col2\" class=\"data row4 col2\" >0.792795</td>\n",
       "                        <td id=\"T_4c226900_1fe4_11eb_a8e1_0242ac1c0002row4_col3\" class=\"data row4 col3\" >0.755192</td>\n",
       "                        <td id=\"T_4c226900_1fe4_11eb_a8e1_0242ac1c0002row4_col4\" class=\"data row4 col4\" >0.733857</td>\n",
       "            </tr>\n",
       "            <tr>\n",
       "                        <th id=\"T_4c226900_1fe4_11eb_a8e1_0242ac1c0002level0_row5\" class=\"row_heading level0 row5\" >150</th>\n",
       "                        <td id=\"T_4c226900_1fe4_11eb_a8e1_0242ac1c0002row5_col0\" class=\"data row5 col0\" >0.833513</td>\n",
       "                        <td id=\"T_4c226900_1fe4_11eb_a8e1_0242ac1c0002row5_col1\" class=\"data row5 col1\" >0.761243</td>\n",
       "                        <td id=\"T_4c226900_1fe4_11eb_a8e1_0242ac1c0002row5_col2\" class=\"data row5 col2\" >0.759424</td>\n",
       "                        <td id=\"T_4c226900_1fe4_11eb_a8e1_0242ac1c0002row5_col3\" class=\"data row5 col3\" >0.746875</td>\n",
       "                        <td id=\"T_4c226900_1fe4_11eb_a8e1_0242ac1c0002row5_col4\" class=\"data row5 col4\" >0.734320</td>\n",
       "            </tr>\n",
       "    </tbody></table>"
      ],
      "text/plain": [
       "<pandas.io.formats.style.Styler at 0x7f35118d7b70>"
      ]
     },
     "execution_count": 344,
     "metadata": {
      "tags": []
     },
     "output_type": "execute_result"
    }
   ],
   "source": [
    "result_df=pd.DataFrame(results,columns=[\"F\",\"penalty\",\"val_rmse\"])\n",
    "summary=pd.pivot_table(result_df, index=\"F\",columns=\"penalty\",values=\"val_rmse\")\n",
    "\n",
    "#find the best parameters\n",
    "best=result_df.iloc[result_df[\"val_rmse\"].idxmin()]\n",
    "print(f\"best F {best['F']}, best penalty {best['penalty']}\")\n",
    "\n",
    "cm = sns.light_palette(\"#60FF60\", reverse=True, as_cmap=True)\n",
    "s = summary.style.highlight_min(axis=None)\n",
    "s"
   ]
  },
  {
   "cell_type": "markdown",
   "metadata": {
    "id": "x7ED5Y4abBRa"
   },
   "source": [
    "Best model has $F=100$ and $\\gamma=1e-4$."
   ]
  },
  {
   "cell_type": "markdown",
   "metadata": {
    "id": "oHHR4kuxbBRa"
   },
   "source": [
    "### Model Performance and Prediction\n",
    "\n",
    "Using the best parameters obtained above, we re-train the model on the whole dataset and evaluate its performance on the test dataset. We also make movie recommendation based on the model prediction."
   ]
  },
  {
   "cell_type": "code",
   "execution_count": 423,
   "metadata": {
    "ExecuteTime": {
     "end_time": "2019-09-08T01:19:02.399069Z",
     "start_time": "2019-09-08T01:16:42.130369Z"
    },
    "colab": {
     "base_uri": "https://localhost:8080/"
    },
    "id": "sZJUo6EmbBRf",
    "outputId": "2e184983-3ec4-4f22-e047-6ffc79805b9d"
   },
   "outputs": [
    {
     "name": "stdout",
     "output_type": "stream",
     "text": [
      "Model: \"functional_203\"\n",
      "__________________________________________________________________________________________________\n",
      "Layer (type)                    Output Shape         Param #     Connected to                     \n",
      "==================================================================================================\n",
      "input_205 (InputLayer)          [(None, 1)]          0                                            \n",
      "__________________________________________________________________________________________________\n",
      "input_206 (InputLayer)          [(None, 1)]          0                                            \n",
      "__________________________________________________________________________________________________\n",
      "UserEmbeddingLayer (Embedding)  (None, 1, 100)       61000       input_205[0][0]                  \n",
      "__________________________________________________________________________________________________\n",
      "MovieEmbeddingLayer (Embedding) (None, 1, 100)       972400      input_206[0][0]                  \n",
      "__________________________________________________________________________________________________\n",
      "embedding_299 (Embedding)       (None, 1, 1)         610         input_205[0][0]                  \n",
      "__________________________________________________________________________________________________\n",
      "embedding_300 (Embedding)       (None, 1, 1)         9724        input_206[0][0]                  \n",
      "__________________________________________________________________________________________________\n",
      "dot_101 (Dot)                   (None, 1, 1)         0           UserEmbeddingLayer[0][0]         \n",
      "                                                                 MovieEmbeddingLayer[0][0]        \n",
      "__________________________________________________________________________________________________\n",
      "add_101 (Add)                   (None, 1, 1)         0           embedding_299[0][0]              \n",
      "                                                                 embedding_300[0][0]              \n",
      "                                                                 dot_101[0][0]                    \n",
      "__________________________________________________________________________________________________\n",
      "flatten_101 (Flatten)           (None, 1)            0           add_101[0][0]                    \n",
      "==================================================================================================\n",
      "Total params: 1,043,734\n",
      "Trainable params: 1,043,734\n",
      "Non-trainable params: 0\n",
      "__________________________________________________________________________________________________\n"
     ]
    },
    {
     "name": "stderr",
     "output_type": "stream",
     "text": [
      "/usr/local/lib/python3.6/dist-packages/tensorflow/python/framework/indexed_slices.py:432: UserWarning: Converting sparse IndexedSlices to a dense Tensor of unknown shape. This may consume a large amount of memory.\n",
      "  \"Converting sparse IndexedSlices to a dense Tensor of unknown shape. \"\n"
     ]
    },
    {
     "name": "stdout",
     "output_type": "stream",
     "text": [
      "0: TRAIN Loss 1.5637,  Err 1.0553 || VAL Loss 1.2692, Err 1.0050\n",
      "10: TRAIN Loss 0.6114,  Err 0.4229 || VAL Loss 0.9188, Err 0.7242\n",
      "20: TRAIN Loss 0.5413,  Err 0.2888 || VAL Loss 0.9642, Err 0.7099\n",
      "30: TRAIN Loss 0.5183,  Err 0.2558 || VAL Loss 0.9717, Err 0.7086\n",
      "40: TRAIN Loss 0.5054,  Err 0.2443 || VAL Loss 0.9717, Err 0.7102\n",
      "50: TRAIN Loss 0.4971,  Err 0.2385 || VAL Loss 0.9717, Err 0.7129\n",
      "60: TRAIN Loss 0.4915,  Err 0.2353 || VAL Loss 0.9724, Err 0.7163\n",
      "70: TRAIN Loss 0.4875,  Err 0.2337 || VAL Loss 0.9740, Err 0.7199\n",
      "80: TRAIN Loss 0.4845,  Err 0.2323 || VAL Loss 0.9760, Err 0.7235\n",
      "90: TRAIN Loss 0.4823,  Err 0.2314 || VAL Loss 0.9778, Err 0.7266\n"
     ]
    }
   ],
   "source": [
    "best_F=int(best['F'])\n",
    "best_penalty=best['penalty']\n",
    "\n",
    "best_MFmodel=MatrixFactorCF(N_users,N_movies,best_F,best_penalty)\n",
    "best_MFmodel.compile()\n",
    "best_history=best_MFmodel.fit(users, movies, ratings, users_test, movies_test, ratings_test)"
   ]
  },
  {
   "cell_type": "code",
   "execution_count": 365,
   "metadata": {
    "colab": {
     "base_uri": "https://localhost:8080/",
     "height": 367
    },
    "id": "wKjQe_wqN7iK",
    "outputId": "b6591fce-a73a-448f-ea9d-a105f5101d46"
   },
   "outputs": [
    {
     "data": {
      "text/plain": [
       "<matplotlib.legend.Legend at 0x7f3507757860>"
      ]
     },
     "execution_count": 365,
     "metadata": {
      "tags": []
     },
     "output_type": "execute_result"
    },
    {
     "data": {
      "image/png": "[encoded data removed]",
      "text/plain": [
       "<Figure size 576x360 with 1 Axes>"
      ]
     },
     "metadata": {
      "needs_background": "light",
      "tags": []
     },
     "output_type": "display_data"
    }
   ],
   "source": [
    "#visualize the training process\n",
    "plt.figure(figsize=(8,5))\n",
    "plt.plot(best_history.history['rmse'], label='rmse')\n",
    "plt.plot(best_history.history['val_rmse'], label='test_rmse')\n",
    "plt.xlabel('Iteration')\n",
    "plt.ylabel('Error')\n",
    "plt.title(\"Matrix Factorization Method\")\n",
    "plt.legend()"
   ]
  },
  {
   "cell_type": "code",
   "execution_count": 366,
   "metadata": {
    "ExecuteTime": {
     "end_time": "2019-09-08T01:19:05.304297Z",
     "start_time": "2019-09-08T01:19:02.400969Z"
    },
    "colab": {
     "base_uri": "https://localhost:8080/"
    },
    "id": "FtYE7L2wbBRi",
    "outputId": "fca2a04a-f14f-4864-a187-6f10313476dc"
   },
   "outputs": [
    {
     "name": "stdout",
     "output_type": "stream",
     "text": [
      "F=100, penalty=0.0001, test loss=0.7293138903985336\n"
     ]
    }
   ],
   "source": [
    "Y_pred = best_model.predict(users_test,movies_test)\n",
    "test_loss=np.mean((ratings_test-Y_pred)**2)\n",
    "print(f'F={best_F}, penalty={best_penalty}, test loss={test_loss}')"
   ]
  },
  {
   "cell_type": "markdown",
   "metadata": {
    "id": "vOq9nmtTc1Ua"
   },
   "source": [
    "## 4. Model Comparison\n",
    "\n",
    "Now we compare the performance of the two collaborative filtering algorithms. Since the item-based model can not measure the mean square errow, we will compare their recommendation lists for performance evaluation, specifically using the precision and recall metrics to examine."
   ]
  },
  {
   "cell_type": "markdown",
   "metadata": {
    "id": "bJNzJaRezyQ3"
   },
   "source": [
    "### Recommendation for users"
   ]
  },
  {
   "cell_type": "code",
   "execution_count": 397,
   "metadata": {
    "colab": {
     "base_uri": "https://localhost:8080/",
     "height": 410
    },
    "id": "UdBjU0S5yUJL",
    "outputId": "7a60dc59-14b9-4646-a35b-1fff679e0f1d"
   },
   "outputs": [
    {
     "data": {
      "text/html": [
       "<div>\n",
       "<style scoped>\n",
       "    .dataframe tbody tr th:only-of-type {\n",
       "        vertical-align: middle;\n",
       "    }\n",
       "\n",
       "    .dataframe tbody tr th {\n",
       "        vertical-align: top;\n",
       "    }\n",
       "\n",
       "    .dataframe thead th {\n",
       "        text-align: right;\n",
       "    }\n",
       "</style>\n",
       "<table border=\"1\" class=\"dataframe\">\n",
       "  <thead>\n",
       "    <tr style=\"text-align: right;\">\n",
       "      <th></th>\n",
       "      <th>userId</th>\n",
       "      <th>movieId</th>\n",
       "      <th>rating</th>\n",
       "      <th>MatrixFactor_prediction</th>\n",
       "    </tr>\n",
       "  </thead>\n",
       "  <tbody>\n",
       "    <tr>\n",
       "      <th>52659</th>\n",
       "      <td>345</td>\n",
       "      <td>779</td>\n",
       "      <td>5.0</td>\n",
       "      <td>3.470915</td>\n",
       "    </tr>\n",
       "    <tr>\n",
       "      <th>52692</th>\n",
       "      <td>345</td>\n",
       "      <td>3534</td>\n",
       "      <td>4.5</td>\n",
       "      <td>3.003760</td>\n",
       "    </tr>\n",
       "    <tr>\n",
       "      <th>52668</th>\n",
       "      <td>345</td>\n",
       "      <td>1127</td>\n",
       "      <td>3.5</td>\n",
       "      <td>3.085003</td>\n",
       "    </tr>\n",
       "    <tr>\n",
       "      <th>52695</th>\n",
       "      <td>345</td>\n",
       "      <td>3801</td>\n",
       "      <td>4.0</td>\n",
       "      <td>3.237909</td>\n",
       "    </tr>\n",
       "    <tr>\n",
       "      <th>52654</th>\n",
       "      <td>345</td>\n",
       "      <td>11</td>\n",
       "      <td>2.5</td>\n",
       "      <td>3.615185</td>\n",
       "    </tr>\n",
       "    <tr>\n",
       "      <th>...</th>\n",
       "      <td>...</td>\n",
       "      <td>...</td>\n",
       "      <td>...</td>\n",
       "      <td>...</td>\n",
       "    </tr>\n",
       "    <tr>\n",
       "      <th>52660</th>\n",
       "      <td>345</td>\n",
       "      <td>838</td>\n",
       "      <td>5.0</td>\n",
       "      <td>2.853195</td>\n",
       "    </tr>\n",
       "    <tr>\n",
       "      <th>52700</th>\n",
       "      <td>345</td>\n",
       "      <td>5377</td>\n",
       "      <td>3.5</td>\n",
       "      <td>3.996491</td>\n",
       "    </tr>\n",
       "    <tr>\n",
       "      <th>52679</th>\n",
       "      <td>345</td>\n",
       "      <td>2359</td>\n",
       "      <td>5.0</td>\n",
       "      <td>3.438814</td>\n",
       "    </tr>\n",
       "    <tr>\n",
       "      <th>52707</th>\n",
       "      <td>345</td>\n",
       "      <td>7121</td>\n",
       "      <td>5.0</td>\n",
       "      <td>2.947897</td>\n",
       "    </tr>\n",
       "    <tr>\n",
       "      <th>52690</th>\n",
       "      <td>345</td>\n",
       "      <td>3396</td>\n",
       "      <td>3.0</td>\n",
       "      <td>4.334935</td>\n",
       "    </tr>\n",
       "  </tbody>\n",
       "</table>\n",
       "<p>62 rows × 4 columns</p>\n",
       "</div>"
      ],
      "text/plain": [
       "       userId  movieId  rating  MatrixFactor_prediction\n",
       "52659     345      779     5.0                 3.470915\n",
       "52692     345     3534     4.5                 3.003760\n",
       "52668     345     1127     3.5                 3.085003\n",
       "52695     345     3801     4.0                 3.237909\n",
       "52654     345       11     2.5                 3.615185\n",
       "...       ...      ...     ...                      ...\n",
       "52660     345      838     5.0                 2.853195\n",
       "52700     345     5377     3.5                 3.996491\n",
       "52679     345     2359     5.0                 3.438814\n",
       "52707     345     7121     5.0                 2.947897\n",
       "52690     345     3396     3.0                 4.334935\n",
       "\n",
       "[62 rows x 4 columns]"
      ]
     },
     "execution_count": 397,
     "metadata": {
      "tags": []
     },
     "output_type": "execute_result"
    }
   ],
   "source": [
    "#choose a random user\n",
    "idx=np.random.randint(0,len(users_all))\n",
    "test_user=users_all[idx]\n",
    "original_test_user=userEncoder.inverse_transform([test_user])[0]\n",
    "\n",
    "user_ratings = data_ratings[data_ratings['userId'] == original_test_user][['userId', 'movieId', 'rating']]\n",
    "user_ratings['MatrixFactor_prediction'] = best_MFmodel.predict(user_ratings.userId, movieEncoder.fit_transform(user_ratings.movieId))\n",
    "user_ratings"
   ]
  },
  {
   "cell_type": "code",
   "execution_count": 399,
   "metadata": {
    "colab": {
     "base_uri": "https://localhost:8080/"
    },
    "id": "kM0NBGwAycj0",
    "outputId": "e5792983-e79b-4974-d30e-66920d8706ff"
   },
   "outputs": [
    {
     "name": "stdout",
     "output_type": "stream",
     "text": [
      "Top 10 movies this user rated\n"
     ]
    },
    {
     "data": {
      "text/plain": [
       "0                       'Til There Was You (1997)\n",
       "1    Waking Ned Devine (a.k.a. Waking Ned) (1998)\n",
       "2                   Affair to Remember, An (1957)\n",
       "3                            All That Jazz (1979)\n",
       "4                             12 Angry Men (1957)\n",
       "5                                     Emma (1996)\n",
       "6                             'Salem's Lot (2004)\n",
       "7                                    Alien (1979)\n",
       "8                            All About Eve (1950)\n",
       "9                               Adam's Rib (1949)\n",
       "Name: title, dtype: object"
      ]
     },
     "execution_count": 399,
     "metadata": {
      "tags": []
     },
     "output_type": "execute_result"
    }
   ],
   "source": [
    "print(\"Top 10 movies this user rated\")\n",
    "user_ratings.sort_values(by='rating', ascending=False).merge(data_movies, on='movieId', how='inner', \n",
    "                                                            suffixes=['_u', '_m']).head(10)['title']"
   ]
  },
  {
   "cell_type": "code",
   "execution_count": 413,
   "metadata": {
    "colab": {
     "base_uri": "https://localhost:8080/"
    },
    "id": "fq4tNVX2y0rh",
    "outputId": "ebcaaae7-14aa-44ef-8456-348358ddfda8"
   },
   "outputs": [
    {
     "name": "stdout",
     "output_type": "stream",
     "text": [
      "Top 10 movies recommended for this user\n",
      "ItemBased Recommendation: \n",
      "['For Whom the Bell Tolls (1943)']\n",
      "['Strange Love of Martha Ivers, The (1946)']\n",
      "['Ruthless People (1986)']\n",
      "['Foxfire (1996)']\n",
      "['Some Like It Hot (1959)']\n",
      "['Inspector General, The (1949)']\n",
      "['In the Line of Fire (1993)']\n",
      "\n",
      "Matrix Factorization Recommendation: \n",
      "['Halloween: Resurrection (Halloween 8) (2002)']\n",
      "['Almost Heroes (1998)']\n",
      "['Lilo & Stitch (2002)']\n",
      "['Mr. Saturday Night (1992)']\n",
      "['Monster, The (Mostro, Il) (1994)']\n",
      "['Hocus Pocus (1993)']\n",
      "['Lumumba (2000)']\n"
     ]
    }
   ],
   "source": [
    "print(\"Top 10 movies recommended for this user\")\n",
    "rec_ItemBased=ItemBasedCFModel.recommend(test_user)\n",
    "rec_MatrixFactor=best_MFmodel.recommend(test_user)\n",
    "\n",
    "rec_ItemBased_title=[data_movies[data_movies.movieId==movie].title for movie in rec_ItemBased]\n",
    "rec_MatrixFactor_title=[data_movies[data_movies.movieId==movie].title for movie in rec_MatrixFactor]\n",
    "\n",
    "print(\"ItemBased Recommendation: \")\n",
    "for movie in rec_ItemBased_title:\n",
    "    if len(movie): print(movie.values)\n",
    "\n",
    "print(\"\\nMatrix Factorization Recommendation: \")\n",
    "for movie in rec_MatrixFactor_title:\n",
    "    if len(movie): print(movie.values)"
   ]
  },
  {
   "cell_type": "markdown",
   "metadata": {
    "id": "1vGTuORLoaag"
   },
   "source": [
    "Now we want to compute the precision, recall and F1-score number for these two recommendation algorithms."
   ]
  },
  {
   "cell_type": "code",
   "execution_count": 420,
   "metadata": {
    "colab": {
     "base_uri": "https://localhost:8080/"
    },
    "id": "cjaM4NHGogte",
    "outputId": "4e910aad-847e-4404-b09e-94d8bc83e84b"
   },
   "outputs": [
    {
     "name": "stdout",
     "output_type": "stream",
     "text": [
      "Iteration 0 testing performance now....\n",
      "Iteration 100 testing performance now....\n",
      "Iteration 200 testing performance now....\n",
      "Iteration 300 testing performance now....\n",
      "Iteration 400 testing performance now....\n",
      "Iteration 500 testing performance now....\n",
      "Iteration 600 testing performance now....\n",
      "precision=0.15245901639344261\t recall=0.061483538278460925\n"
     ]
    }
   ],
   "source": [
    "prec1, recall1 = ItemBasedCFModel.test(test_dict)\n",
    "F1_1 = (2*recall1*prec1)/(recall1+prec1)"
   ]
  },
  {
   "cell_type": "code",
   "execution_count": 424,
   "metadata": {
    "colab": {
     "base_uri": "https://localhost:8080/"
    },
    "id": "TLKUJB394Rbm",
    "outputId": "364c579e-fae8-4962-9866-7cf84747913c"
   },
   "outputs": [
    {
     "name": "stdout",
     "output_type": "stream",
     "text": [
      "Iteration 0 testing performance now....\n",
      "Iteration 100 testing performance now....\n",
      "Iteration 200 testing performance now....\n",
      "Iteration 300 testing performance now....\n",
      "Iteration 400 testing performance now....\n",
      "Iteration 500 testing performance now....\n",
      "Iteration 600 testing performance now....\n",
      "precision=0.19060955518945634\t recall=0.10636123231521883\n",
      "\n"
     ]
    }
   ],
   "source": [
    "prec2, recall2 = best_MFmodel.test_performance(train_dict,test_dict)\n",
    "F1_2 = (2*recall2*prec2)/(recall2+prec2)"
   ]
  },
  {
   "cell_type": "code",
   "execution_count": 421,
   "metadata": {
    "colab": {
     "base_uri": "https://localhost:8080/"
    },
    "id": "uyw6FGN23iRj",
    "outputId": "6c5096b3-d1cb-4a7d-fe3c-c0af732a1c82"
   },
   "outputs": [
    {
     "name": "stdout",
     "output_type": "stream",
     "text": [
      "Item-based Model: precision=0.15245901639344261, recall=0.061483538278460925, F1-score=0.08762838028832563\n",
      "Matrix Factorization Model: precision=0.19060955518945634, recall=0.10636123231521883, F1-score=0.12852323565438613\n"
     ]
    }
   ],
   "source": [
    "print(f\"Item-based Model: precision={prec1}, recall={recall1}, F1-score={F1_1}\")\n",
    "print(f\"Matrix Factorization Model: precision={prec2}, recall={recall2}, F1-score={F1_2}\")"
   ]
  },
  {
   "cell_type": "markdown",
   "metadata": {
    "id": "NkBQ4LysoRm6"
   },
   "source": [
    "We can see that the precision, recall and F1-score for the Matrix Factorization model is slightly higher than the Item-based model. This is because the MF model considers both the effect of movies and users and their interactions, thus it is more robust especially for predicting the test set."
   ]
  },
  {
   "cell_type": "markdown",
   "metadata": {
    "id": "AXHLB3kRe07w"
   },
   "source": [
    "## 5. Future Work\n",
    "\n",
    "Given the limited time (12 hours window), two collaborative filtering algorithms are compared on the MovieLens small dataset (100k). If given more time, we project to finish the following parts to improve this movie recommendation model:\n",
    "\n",
    "1. Consider K-fold cross validation training to improve the model robustness and further avoid the overfitting scenario\n",
    "2. Use larger MovieLens dataset (27M) to train the model and predict:\n",
    "    \n",
    "    This might require use AWS Sagemaker with EC2 instance. Or we can try using Spark with RDD data and mllib library with ALS (Alternating least squares) optimization method to train the matrix factorization models.\n",
    "\n",
    "3. Combine the two algorithms and even other content-based filtering methods to make an ensemble method for better prediction."
   ]
  },
  {
   "cell_type": "code",
   "execution_count": null,
   "metadata": {
    "id": "cgYFd56IbBRl"
   },
   "outputs": [],
   "source": []
  }
 ],
 "metadata": {
  "accelerator": "GPU",
  "colab": {
   "collapsed_sections": [],
   "name": "CollaborativeFiltering_MovieRecommender_Kerry.ipynb",
   "provenance": [],
   "toc_visible": true
  },
  "kernelspec": {
   "display_name": "Python 3",
   "language": "python",
   "name": "python3"
  },
  "language_info": {
   "codemirror_mode": {
    "name": "ipython",
    "version": 3
   },
   "file_extension": ".py",
   "mimetype": "text/x-python",
   "name": "python",
   "nbconvert_exporter": "python",
   "pygments_lexer": "ipython3",
   "version": "3.7.4"
  },
  "toc": {
   "base_numbering": 1,
   "nav_menu": {},
   "number_sections": true,
   "sideBar": true,
   "skip_h1_title": true,
   "title_cell": "Table of Contents",
   "title_sidebar": "Contents",
   "toc_cell": false,
   "toc_position": {},
   "toc_section_display": true,
   "toc_window_display": true
  }
 },
 "nbformat": 4,
 "nbformat_minor": 1
}
